{
 "cells": [
  {
   "source": [
    "# Prediction of human fatal-maternal blood concentration ratio of chemicals"
   ],
   "cell_type": "markdown",
   "metadata": {}
  },
  {
   "cell_type": "markdown",
   "metadata": {},
   "source": [
    "## Import data"
   ]
  },
  {
   "cell_type": "code",
   "execution_count": 1,
   "metadata": {
    "tags": []
   },
   "outputs": [],
   "source": [
    "import pandas as pd"
   ]
  },
  {
   "cell_type": "code",
   "execution_count": 2,
   "metadata": {},
   "outputs": [],
   "source": [
    "train_df = pd.read_csv(\"table-1.csv\")\n",
    "test_df = pd.read_csv(\"table-2.csv\")"
   ]
  },
  {
   "cell_type": "code",
   "execution_count": 3,
   "metadata": {},
   "outputs": [
    {
     "output_type": "execute_result",
     "data": {
      "text/plain": [
       "           Name  AATSC1c  ZMIC1  Observed logFM  Predicted logFM AD  \\\n",
       "0  Oxychlordane     0.90   1.90           -1.02            -0.80  Y   \n",
       "1           DDE     1.06   1.10           -0.98            -0.64  Y   \n",
       "2  Mifepristone     1.10  -0.03           -0.96            -0.41  N   \n",
       "3    Atazanavir    -0.36   1.94           -0.89            -0.70  Y   \n",
       "4     Nonachlor     1.54   2.54           -0.84            -1.00  Y   \n",
       "\n",
       "   PubChem CID  \n",
       "0        33772  \n",
       "1         3035  \n",
       "2         4196  \n",
       "3       148192  \n",
       "4        19520  "
      ],
      "text/html": "<div>\n<style scoped>\n    .dataframe tbody tr th:only-of-type {\n        vertical-align: middle;\n    }\n\n    .dataframe tbody tr th {\n        vertical-align: top;\n    }\n\n    .dataframe thead th {\n        text-align: right;\n    }\n</style>\n<table border=\"1\" class=\"dataframe\">\n  <thead>\n    <tr style=\"text-align: right;\">\n      <th></th>\n      <th>Name</th>\n      <th>AATSC1c</th>\n      <th>ZMIC1</th>\n      <th>Observed logFM</th>\n      <th>Predicted logFM</th>\n      <th>AD</th>\n      <th>PubChem CID</th>\n    </tr>\n  </thead>\n  <tbody>\n    <tr>\n      <th>0</th>\n      <td>Oxychlordane</td>\n      <td>0.90</td>\n      <td>1.90</td>\n      <td>-1.02</td>\n      <td>-0.80</td>\n      <td>Y</td>\n      <td>33772</td>\n    </tr>\n    <tr>\n      <th>1</th>\n      <td>DDE</td>\n      <td>1.06</td>\n      <td>1.10</td>\n      <td>-0.98</td>\n      <td>-0.64</td>\n      <td>Y</td>\n      <td>3035</td>\n    </tr>\n    <tr>\n      <th>2</th>\n      <td>Mifepristone</td>\n      <td>1.10</td>\n      <td>-0.03</td>\n      <td>-0.96</td>\n      <td>-0.41</td>\n      <td>N</td>\n      <td>4196</td>\n    </tr>\n    <tr>\n      <th>3</th>\n      <td>Atazanavir</td>\n      <td>-0.36</td>\n      <td>1.94</td>\n      <td>-0.89</td>\n      <td>-0.70</td>\n      <td>Y</td>\n      <td>148192</td>\n    </tr>\n    <tr>\n      <th>4</th>\n      <td>Nonachlor</td>\n      <td>1.54</td>\n      <td>2.54</td>\n      <td>-0.84</td>\n      <td>-1.00</td>\n      <td>Y</td>\n      <td>19520</td>\n    </tr>\n  </tbody>\n</table>\n</div>"
     },
     "metadata": {},
     "execution_count": 3
    }
   ],
   "source": [
    "train_df.head()"
   ]
  },
  {
   "cell_type": "code",
   "execution_count": 4,
   "metadata": {},
   "outputs": [
    {
     "output_type": "execute_result",
     "data": {
      "text/plain": [
       "                              Name  AATSC1c  ZMIC1  Observed logFM  \\\n",
       "0                        Indinavir     0.44   1.54           -1.10   \n",
       "1                       Duloxetine     1.13   0.04           -0.92   \n",
       "2  17-Hydroxyprogesterone caproate     0.90   0.71           -0.70   \n",
       "3                       Nelfinavir     0.34   0.82           -0.60   \n",
       "4                      Bupivacaine     0.91  -0.38           -0.52   \n",
       "\n",
       "   Predicted logFM AD  PubChem CID  \n",
       "0            -0.68  Y         3706  \n",
       "1            -0.43  N        60835  \n",
       "2            -0.55  Y         3653  \n",
       "3            -0.52  Y         4451  \n",
       "4            -0.31  Y         2474  "
      ],
      "text/html": "<div>\n<style scoped>\n    .dataframe tbody tr th:only-of-type {\n        vertical-align: middle;\n    }\n\n    .dataframe tbody tr th {\n        vertical-align: top;\n    }\n\n    .dataframe thead th {\n        text-align: right;\n    }\n</style>\n<table border=\"1\" class=\"dataframe\">\n  <thead>\n    <tr style=\"text-align: right;\">\n      <th></th>\n      <th>Name</th>\n      <th>AATSC1c</th>\n      <th>ZMIC1</th>\n      <th>Observed logFM</th>\n      <th>Predicted logFM</th>\n      <th>AD</th>\n      <th>PubChem CID</th>\n    </tr>\n  </thead>\n  <tbody>\n    <tr>\n      <th>0</th>\n      <td>Indinavir</td>\n      <td>0.44</td>\n      <td>1.54</td>\n      <td>-1.10</td>\n      <td>-0.68</td>\n      <td>Y</td>\n      <td>3706</td>\n    </tr>\n    <tr>\n      <th>1</th>\n      <td>Duloxetine</td>\n      <td>1.13</td>\n      <td>0.04</td>\n      <td>-0.92</td>\n      <td>-0.43</td>\n      <td>N</td>\n      <td>60835</td>\n    </tr>\n    <tr>\n      <th>2</th>\n      <td>17-Hydroxyprogesterone caproate</td>\n      <td>0.90</td>\n      <td>0.71</td>\n      <td>-0.70</td>\n      <td>-0.55</td>\n      <td>Y</td>\n      <td>3653</td>\n    </tr>\n    <tr>\n      <th>3</th>\n      <td>Nelfinavir</td>\n      <td>0.34</td>\n      <td>0.82</td>\n      <td>-0.60</td>\n      <td>-0.52</td>\n      <td>Y</td>\n      <td>4451</td>\n    </tr>\n    <tr>\n      <th>4</th>\n      <td>Bupivacaine</td>\n      <td>0.91</td>\n      <td>-0.38</td>\n      <td>-0.52</td>\n      <td>-0.31</td>\n      <td>Y</td>\n      <td>2474</td>\n    </tr>\n  </tbody>\n</table>\n</div>"
     },
     "metadata": {},
     "execution_count": 4
    }
   ],
   "source": [
    "test_df.head()"
   ]
  },
  {
   "cell_type": "code",
   "execution_count": 5,
   "metadata": {},
   "outputs": [],
   "source": [
    "df = pd.concat([train_df, test_df])\n",
    "df = df.loc[:, ['Name', 'PubChem CID', 'Observed logFM', 'Predicted logFM']]"
   ]
  },
  {
   "cell_type": "code",
   "execution_count": 6,
   "metadata": {},
   "outputs": [
    {
     "output_type": "execute_result",
     "data": {
      "text/plain": [
       "           Name  PubChem CID  Observed logFM  Predicted logFM\n",
       "0  Oxychlordane        33772           -1.02            -0.80\n",
       "1           DDE         3035           -0.98            -0.64\n",
       "2  Mifepristone         4196           -0.96            -0.41\n",
       "3    Atazanavir       148192           -0.89            -0.70\n",
       "4     Nonachlor        19520           -0.84            -1.00"
      ],
      "text/html": "<div>\n<style scoped>\n    .dataframe tbody tr th:only-of-type {\n        vertical-align: middle;\n    }\n\n    .dataframe tbody tr th {\n        vertical-align: top;\n    }\n\n    .dataframe thead th {\n        text-align: right;\n    }\n</style>\n<table border=\"1\" class=\"dataframe\">\n  <thead>\n    <tr style=\"text-align: right;\">\n      <th></th>\n      <th>Name</th>\n      <th>PubChem CID</th>\n      <th>Observed logFM</th>\n      <th>Predicted logFM</th>\n    </tr>\n  </thead>\n  <tbody>\n    <tr>\n      <th>0</th>\n      <td>Oxychlordane</td>\n      <td>33772</td>\n      <td>-1.02</td>\n      <td>-0.80</td>\n    </tr>\n    <tr>\n      <th>1</th>\n      <td>DDE</td>\n      <td>3035</td>\n      <td>-0.98</td>\n      <td>-0.64</td>\n    </tr>\n    <tr>\n      <th>2</th>\n      <td>Mifepristone</td>\n      <td>4196</td>\n      <td>-0.96</td>\n      <td>-0.41</td>\n    </tr>\n    <tr>\n      <th>3</th>\n      <td>Atazanavir</td>\n      <td>148192</td>\n      <td>-0.89</td>\n      <td>-0.70</td>\n    </tr>\n    <tr>\n      <th>4</th>\n      <td>Nonachlor</td>\n      <td>19520</td>\n      <td>-0.84</td>\n      <td>-1.00</td>\n    </tr>\n  </tbody>\n</table>\n</div>"
     },
     "metadata": {},
     "execution_count": 6
    }
   ],
   "source": [
    "df.head()"
   ]
  },
  {
   "cell_type": "code",
   "execution_count": 7,
   "metadata": {},
   "outputs": [],
   "source": [
    "smiles = pd.read_table(\"task1-smiles.txt\", header=None, names=('PubChem CID', 'SMILES'))"
   ]
  },
  {
   "cell_type": "code",
   "execution_count": 8,
   "metadata": {},
   "outputs": [
    {
     "output_type": "execute_result",
     "data": {
      "text/plain": [
       "   PubChem CID                                             SMILES\n",
       "0         3653  CCCCCC(=O)OC1(CCC2C1(CCC3C2CCC4=CC(=O)CCC34C)C...\n",
       "1         1971         C1CC1NC2=C3C(=NC(=N2)N)N(C=N3)C4CC(C=C4)CO\n",
       "2         1978        CCCC(=O)NC1=CC(=C(C=C1)OCC(CNC(C)C)O)C(=O)C\n",
       "3         2476  CC(C)(C)C(C)(C1CC23CCC1(C4C25CCN(C3CC6=C5C(=C(...\n",
       "4        10917                    C[N+](C)(C)C[C@@H](CC(=O)[O-])O"
      ],
      "text/html": "<div>\n<style scoped>\n    .dataframe tbody tr th:only-of-type {\n        vertical-align: middle;\n    }\n\n    .dataframe tbody tr th {\n        vertical-align: top;\n    }\n\n    .dataframe thead th {\n        text-align: right;\n    }\n</style>\n<table border=\"1\" class=\"dataframe\">\n  <thead>\n    <tr style=\"text-align: right;\">\n      <th></th>\n      <th>PubChem CID</th>\n      <th>SMILES</th>\n    </tr>\n  </thead>\n  <tbody>\n    <tr>\n      <th>0</th>\n      <td>3653</td>\n      <td>CCCCCC(=O)OC1(CCC2C1(CCC3C2CCC4=CC(=O)CCC34C)C...</td>\n    </tr>\n    <tr>\n      <th>1</th>\n      <td>1971</td>\n      <td>C1CC1NC2=C3C(=NC(=N2)N)N(C=N3)C4CC(C=C4)CO</td>\n    </tr>\n    <tr>\n      <th>2</th>\n      <td>1978</td>\n      <td>CCCC(=O)NC1=CC(=C(C=C1)OCC(CNC(C)C)O)C(=O)C</td>\n    </tr>\n    <tr>\n      <th>3</th>\n      <td>2476</td>\n      <td>CC(C)(C)C(C)(C1CC23CCC1(C4C25CCN(C3CC6=C5C(=C(...</td>\n    </tr>\n    <tr>\n      <th>4</th>\n      <td>10917</td>\n      <td>C[N+](C)(C)C[C@@H](CC(=O)[O-])O</td>\n    </tr>\n  </tbody>\n</table>\n</div>"
     },
     "metadata": {},
     "execution_count": 8
    }
   ],
   "source": [
    "smiles.head()"
   ]
  },
  {
   "cell_type": "code",
   "execution_count": 9,
   "metadata": {},
   "outputs": [],
   "source": [
    "df = pd.merge(df, smiles, on='PubChem CID', how='outer')"
   ]
  },
  {
   "source": [
    "### Check if there are any null values"
   ],
   "cell_type": "markdown",
   "metadata": {}
  },
  {
   "cell_type": "code",
   "execution_count": 10,
   "metadata": {},
   "outputs": [
    {
     "output_type": "execute_result",
     "data": {
      "text/plain": [
       "Name               0\n",
       "PubChem CID        0\n",
       "Observed logFM     0\n",
       "Predicted logFM    0\n",
       "SMILES             0\n",
       "dtype: int64"
      ]
     },
     "metadata": {},
     "execution_count": 10
    }
   ],
   "source": [
    "df.isnull().sum()"
   ]
  },
  {
   "source": [
    "No need to complement data. "
   ],
   "cell_type": "markdown",
   "metadata": {}
  },
  {
   "cell_type": "code",
   "execution_count": 11,
   "metadata": {},
   "outputs": [
    {
     "output_type": "execute_result",
     "data": {
      "text/plain": [
       "           Name  PubChem CID  Observed logFM  Predicted logFM  \\\n",
       "0  Oxychlordane        33772           -1.02            -0.80   \n",
       "1           DDE         3035           -0.98            -0.64   \n",
       "2  Mifepristone         4196           -0.96            -0.41   \n",
       "3    Atazanavir       148192           -0.89            -0.70   \n",
       "4     Nonachlor        19520           -0.84            -1.00   \n",
       "\n",
       "                                              SMILES  \n",
       "0  C12C(C(C3(C1O3)Cl)Cl)C4(C(=C(C2(C4(Cl)Cl)Cl)Cl...  \n",
       "1          C1=CC(=CC=C1C(=C(Cl)Cl)C2=CC=C(C=C2)Cl)Cl  \n",
       "2  CC#CC1(CCC2C1(CC(C3=C4CCC(=O)C=C4CCC23)C5=CC=C...  \n",
       "3  CC(C)(C)[C@@H](C(=O)N[C@@H](CC1=CC=CC=C1)[C@H]...  \n",
       "4  C12C(C(C(C1Cl)Cl)Cl)C3(C(=C(C2(C3(Cl)Cl)Cl)Cl)...  "
      ],
      "text/html": "<div>\n<style scoped>\n    .dataframe tbody tr th:only-of-type {\n        vertical-align: middle;\n    }\n\n    .dataframe tbody tr th {\n        vertical-align: top;\n    }\n\n    .dataframe thead th {\n        text-align: right;\n    }\n</style>\n<table border=\"1\" class=\"dataframe\">\n  <thead>\n    <tr style=\"text-align: right;\">\n      <th></th>\n      <th>Name</th>\n      <th>PubChem CID</th>\n      <th>Observed logFM</th>\n      <th>Predicted logFM</th>\n      <th>SMILES</th>\n    </tr>\n  </thead>\n  <tbody>\n    <tr>\n      <th>0</th>\n      <td>Oxychlordane</td>\n      <td>33772</td>\n      <td>-1.02</td>\n      <td>-0.80</td>\n      <td>C12C(C(C3(C1O3)Cl)Cl)C4(C(=C(C2(C4(Cl)Cl)Cl)Cl...</td>\n    </tr>\n    <tr>\n      <th>1</th>\n      <td>DDE</td>\n      <td>3035</td>\n      <td>-0.98</td>\n      <td>-0.64</td>\n      <td>C1=CC(=CC=C1C(=C(Cl)Cl)C2=CC=C(C=C2)Cl)Cl</td>\n    </tr>\n    <tr>\n      <th>2</th>\n      <td>Mifepristone</td>\n      <td>4196</td>\n      <td>-0.96</td>\n      <td>-0.41</td>\n      <td>CC#CC1(CCC2C1(CC(C3=C4CCC(=O)C=C4CCC23)C5=CC=C...</td>\n    </tr>\n    <tr>\n      <th>3</th>\n      <td>Atazanavir</td>\n      <td>148192</td>\n      <td>-0.89</td>\n      <td>-0.70</td>\n      <td>CC(C)(C)[C@@H](C(=O)N[C@@H](CC1=CC=CC=C1)[C@H]...</td>\n    </tr>\n    <tr>\n      <th>4</th>\n      <td>Nonachlor</td>\n      <td>19520</td>\n      <td>-0.84</td>\n      <td>-1.00</td>\n      <td>C12C(C(C(C1Cl)Cl)Cl)C3(C(=C(C2(C3(Cl)Cl)Cl)Cl)...</td>\n    </tr>\n  </tbody>\n</table>\n</div>"
     },
     "metadata": {},
     "execution_count": 11
    }
   ],
   "source": [
    "df.head()"
   ]
  },
  {
   "cell_type": "code",
   "execution_count": 12,
   "metadata": {},
   "outputs": [],
   "source": [
    "df.to_csv('data.csv')"
   ]
  },
  {
   "source": [
    "## Calculate 1D/2D Descriptors"
   ],
   "cell_type": "markdown",
   "metadata": {}
  },
  {
   "cell_type": "code",
   "execution_count": 13,
   "metadata": {},
   "outputs": [],
   "source": [
    "from rdkit import Chem\n",
    "from rdkit.Chem import Descriptors\n",
    "from rdkit.ML.Descriptors import MoleculeDescriptors"
   ]
  },
  {
   "cell_type": "code",
   "execution_count": 14,
   "metadata": {
    "tags": []
   },
   "outputs": [],
   "source": [
    "names = df.index\n",
    "mols = [ Chem.MolFromSmiles(mol) for mol in df['SMILES']]\n",
    "# List of all descriptors\n",
    "descLists = [desc_name[0] for desc_name in Descriptors.descList]\n",
    "desc_calc = MoleculeDescriptors.MolecularDescriptorCalculator(descLists)\n",
    "data = [desc_calc.CalcDescriptors(mol) for mol in mols]\n",
    "df_desc = pd.DataFrame(data, columns=descLists, index=names)\n",
    "df_1d2d = pd.concat([df, df_desc], axis=1)"
   ]
  },
  {
   "cell_type": "code",
   "execution_count": 15,
   "metadata": {},
   "outputs": [
    {
     "output_type": "execute_result",
     "data": {
      "text/plain": [
       "           Name  PubChem CID  Observed logFM  Predicted logFM  \\\n",
       "0  Oxychlordane        33772           -1.02            -0.80   \n",
       "1           DDE         3035           -0.98            -0.64   \n",
       "2  Mifepristone         4196           -0.96            -0.41   \n",
       "3    Atazanavir       148192           -0.89            -0.70   \n",
       "4     Nonachlor        19520           -0.84            -1.00   \n",
       "\n",
       "                                              SMILES  MaxEStateIndex  \\\n",
       "0  C12C(C(C3(C1O3)Cl)Cl)C4(C(=C(C2(C4(Cl)Cl)Cl)Cl...        6.653356   \n",
       "1          C1=CC(=CC=C1C(=C(Cl)Cl)C2=CC=C(C=C2)Cl)Cl        5.971502   \n",
       "2  CC#CC1(CCC2C1(CC(C3=C4CCC(=O)C=C4CCC23)C5=CC=C...       12.169555   \n",
       "3  CC(C)(C)[C@@H](C(=O)N[C@@H](CC1=CC=CC=C1)[C@H]...       13.797319   \n",
       "4  C12C(C(C(C1Cl)Cl)Cl)C3(C(=C(C2(C3(Cl)Cl)Cl)Cl)...        6.625579   \n",
       "\n",
       "   MinEStateIndex  MaxAbsEStateIndex  MinAbsEStateIndex       qed  ...  \\\n",
       "0       -1.579444           6.653356           0.142870  0.393598  ...   \n",
       "1        0.208005           5.971502           0.208005  0.619326  ...   \n",
       "2       -0.913604          12.169555           0.220906  0.639526  ...   \n",
       "3       -1.219772          13.797319           0.119827  0.154312  ...   \n",
       "4       -1.607222           6.625579           0.122562  0.408518  ...   \n",
       "\n",
       "   fr_sulfide  fr_sulfonamd  fr_sulfone  fr_term_acetylene  fr_tetrazole  \\\n",
       "0           0             0           0                  0             0   \n",
       "1           0             0           0                  0             0   \n",
       "2           0             0           0                  0             0   \n",
       "3           0             0           0                  0             0   \n",
       "4           0             0           0                  0             0   \n",
       "\n",
       "   fr_thiazole  fr_thiocyan  fr_thiophene  fr_unbrch_alkane  fr_urea  \n",
       "0            0            0             0                 0        0  \n",
       "1            0            0             0                 0        0  \n",
       "2            0            0             0                 0        0  \n",
       "3            0            0             0                 0        0  \n",
       "4            0            0             0                 0        0  \n",
       "\n",
       "[5 rows x 205 columns]"
      ],
      "text/html": "<div>\n<style scoped>\n    .dataframe tbody tr th:only-of-type {\n        vertical-align: middle;\n    }\n\n    .dataframe tbody tr th {\n        vertical-align: top;\n    }\n\n    .dataframe thead th {\n        text-align: right;\n    }\n</style>\n<table border=\"1\" class=\"dataframe\">\n  <thead>\n    <tr style=\"text-align: right;\">\n      <th></th>\n      <th>Name</th>\n      <th>PubChem CID</th>\n      <th>Observed logFM</th>\n      <th>Predicted logFM</th>\n      <th>SMILES</th>\n      <th>MaxEStateIndex</th>\n      <th>MinEStateIndex</th>\n      <th>MaxAbsEStateIndex</th>\n      <th>MinAbsEStateIndex</th>\n      <th>qed</th>\n      <th>...</th>\n      <th>fr_sulfide</th>\n      <th>fr_sulfonamd</th>\n      <th>fr_sulfone</th>\n      <th>fr_term_acetylene</th>\n      <th>fr_tetrazole</th>\n      <th>fr_thiazole</th>\n      <th>fr_thiocyan</th>\n      <th>fr_thiophene</th>\n      <th>fr_unbrch_alkane</th>\n      <th>fr_urea</th>\n    </tr>\n  </thead>\n  <tbody>\n    <tr>\n      <th>0</th>\n      <td>Oxychlordane</td>\n      <td>33772</td>\n      <td>-1.02</td>\n      <td>-0.80</td>\n      <td>C12C(C(C3(C1O3)Cl)Cl)C4(C(=C(C2(C4(Cl)Cl)Cl)Cl...</td>\n      <td>6.653356</td>\n      <td>-1.579444</td>\n      <td>6.653356</td>\n      <td>0.142870</td>\n      <td>0.393598</td>\n      <td>...</td>\n      <td>0</td>\n      <td>0</td>\n      <td>0</td>\n      <td>0</td>\n      <td>0</td>\n      <td>0</td>\n      <td>0</td>\n      <td>0</td>\n      <td>0</td>\n      <td>0</td>\n    </tr>\n    <tr>\n      <th>1</th>\n      <td>DDE</td>\n      <td>3035</td>\n      <td>-0.98</td>\n      <td>-0.64</td>\n      <td>C1=CC(=CC=C1C(=C(Cl)Cl)C2=CC=C(C=C2)Cl)Cl</td>\n      <td>5.971502</td>\n      <td>0.208005</td>\n      <td>5.971502</td>\n      <td>0.208005</td>\n      <td>0.619326</td>\n      <td>...</td>\n      <td>0</td>\n      <td>0</td>\n      <td>0</td>\n      <td>0</td>\n      <td>0</td>\n      <td>0</td>\n      <td>0</td>\n      <td>0</td>\n      <td>0</td>\n      <td>0</td>\n    </tr>\n    <tr>\n      <th>2</th>\n      <td>Mifepristone</td>\n      <td>4196</td>\n      <td>-0.96</td>\n      <td>-0.41</td>\n      <td>CC#CC1(CCC2C1(CC(C3=C4CCC(=O)C=C4CCC23)C5=CC=C...</td>\n      <td>12.169555</td>\n      <td>-0.913604</td>\n      <td>12.169555</td>\n      <td>0.220906</td>\n      <td>0.639526</td>\n      <td>...</td>\n      <td>0</td>\n      <td>0</td>\n      <td>0</td>\n      <td>0</td>\n      <td>0</td>\n      <td>0</td>\n      <td>0</td>\n      <td>0</td>\n      <td>0</td>\n      <td>0</td>\n    </tr>\n    <tr>\n      <th>3</th>\n      <td>Atazanavir</td>\n      <td>148192</td>\n      <td>-0.89</td>\n      <td>-0.70</td>\n      <td>CC(C)(C)[C@@H](C(=O)N[C@@H](CC1=CC=CC=C1)[C@H]...</td>\n      <td>13.797319</td>\n      <td>-1.219772</td>\n      <td>13.797319</td>\n      <td>0.119827</td>\n      <td>0.154312</td>\n      <td>...</td>\n      <td>0</td>\n      <td>0</td>\n      <td>0</td>\n      <td>0</td>\n      <td>0</td>\n      <td>0</td>\n      <td>0</td>\n      <td>0</td>\n      <td>0</td>\n      <td>0</td>\n    </tr>\n    <tr>\n      <th>4</th>\n      <td>Nonachlor</td>\n      <td>19520</td>\n      <td>-0.84</td>\n      <td>-1.00</td>\n      <td>C12C(C(C(C1Cl)Cl)Cl)C3(C(=C(C2(C3(Cl)Cl)Cl)Cl)...</td>\n      <td>6.625579</td>\n      <td>-1.607222</td>\n      <td>6.625579</td>\n      <td>0.122562</td>\n      <td>0.408518</td>\n      <td>...</td>\n      <td>0</td>\n      <td>0</td>\n      <td>0</td>\n      <td>0</td>\n      <td>0</td>\n      <td>0</td>\n      <td>0</td>\n      <td>0</td>\n      <td>0</td>\n      <td>0</td>\n    </tr>\n  </tbody>\n</table>\n<p>5 rows × 205 columns</p>\n</div>"
     },
     "metadata": {},
     "execution_count": 15
    }
   ],
   "source": [
    "df_1d2d.head()"
   ]
  },
  {
   "cell_type": "code",
   "execution_count": 16,
   "metadata": {},
   "outputs": [],
   "source": [
    "df_1d2d.to_csv('1d2d_desc.csv')"
   ]
  },
  {
   "source": [
    "## Calculate 3D Descriptors using ETKDGv2"
   ],
   "cell_type": "markdown",
   "metadata": {}
  },
  {
   "cell_type": "code",
   "execution_count": 17,
   "metadata": {},
   "outputs": [],
   "source": [
    "from rdkit.Chem import AllChem, Descriptors3D"
   ]
  },
  {
   "cell_type": "code",
   "execution_count": 18,
   "metadata": {},
   "outputs": [],
   "source": [
    "def smiles_to_conformation(smiles):\n",
    "    comp = Chem.MolFromSmiles(smiles)\n",
    "    comp_h = AllChem.AddHs(comp)\n",
    "    AllChem.EmbedMolecule(comp_h, AllChem.ETKDGv2())\n",
    "    return comp_h"
   ]
  },
  {
   "cell_type": "code",
   "execution_count": 19,
   "metadata": {
    "tags": []
   },
   "outputs": [],
   "source": [
    "descLists = ['Asphericity','Eccentricity','InertialShapeFactor','NPR1','NPR2','PMI1','PMI2','PMI3','RadiusOfGyration','SpherocityIndex']\n",
    "mols = [smiles_to_conformation(smiles) for smiles in df['SMILES']]\n",
    "df_3d = df\n",
    "for desc in descLists:\n",
    "    descCalc = getattr(Descriptors3D, desc)\n",
    "    data = [descCalc(mol) for mol in mols]\n",
    "    df_desc = pd.Series(data, name=desc)\n",
    "    df_3d = pd.concat([df_3d, df_desc], axis=1)"
   ]
  },
  {
   "cell_type": "code",
   "execution_count": 20,
   "metadata": {},
   "outputs": [
    {
     "output_type": "execute_result",
     "data": {
      "text/plain": [
       "           Name  PubChem CID  Observed logFM  Predicted logFM  \\\n",
       "0  Oxychlordane        33772           -1.02            -0.80   \n",
       "1           DDE         3035           -0.98            -0.64   \n",
       "2  Mifepristone         4196           -0.96            -0.41   \n",
       "3    Atazanavir       148192           -0.89            -0.70   \n",
       "4     Nonachlor        19520           -0.84            -1.00   \n",
       "\n",
       "                                              SMILES  Asphericity  \\\n",
       "0  C12C(C(C3(C1O3)Cl)Cl)C4(C(=C(C2(C4(Cl)Cl)Cl)Cl...     0.124035   \n",
       "1          C1=CC(=CC=C1C(=C(Cl)Cl)C2=CC=C(C=C2)Cl)Cl     0.358764   \n",
       "2  CC#CC1(CCC2C1(CC(C3=C4CCC(=O)C=C4CCC23)C5=CC=C...     0.183070   \n",
       "3  CC(C)(C)[C@@H](C(=O)N[C@@H](CC1=CC=CC=C1)[C@H]...     0.210077   \n",
       "4  C12C(C(C(C1Cl)Cl)Cl)C3(C(=C(C2(C3(Cl)Cl)Cl)Cl)...     0.049676   \n",
       "\n",
       "   Eccentricity  InertialShapeFactor      NPR1      NPR2         PMI1  \\\n",
       "0      0.849923             0.000542  0.526907  0.839296  1547.953805   \n",
       "1      0.953404             0.000564  0.301695  0.738898  1310.388026   \n",
       "2      0.872762             0.000197  0.488146  0.640115  3254.022601   \n",
       "3      0.900806             0.000076  0.434221  0.704534  9264.157011   \n",
       "4      0.733965             0.000402  0.679187  0.820061  2042.082998   \n",
       "\n",
       "           PMI2          PMI3  RadiusOfGyration  SpherocityIndex  \n",
       "0   2465.693952   2937.813664          2.863918         0.652447  \n",
       "1   3209.340032   4343.414771          3.732887         0.245965  \n",
       "2   4267.066604   6666.088659          4.063487         0.256209  \n",
       "3  15031.319416  21335.124767          5.689301         0.259332  \n",
       "4   2465.639941   3006.655892          2.908232         0.733779  "
      ],
      "text/html": "<div>\n<style scoped>\n    .dataframe tbody tr th:only-of-type {\n        vertical-align: middle;\n    }\n\n    .dataframe tbody tr th {\n        vertical-align: top;\n    }\n\n    .dataframe thead th {\n        text-align: right;\n    }\n</style>\n<table border=\"1\" class=\"dataframe\">\n  <thead>\n    <tr style=\"text-align: right;\">\n      <th></th>\n      <th>Name</th>\n      <th>PubChem CID</th>\n      <th>Observed logFM</th>\n      <th>Predicted logFM</th>\n      <th>SMILES</th>\n      <th>Asphericity</th>\n      <th>Eccentricity</th>\n      <th>InertialShapeFactor</th>\n      <th>NPR1</th>\n      <th>NPR2</th>\n      <th>PMI1</th>\n      <th>PMI2</th>\n      <th>PMI3</th>\n      <th>RadiusOfGyration</th>\n      <th>SpherocityIndex</th>\n    </tr>\n  </thead>\n  <tbody>\n    <tr>\n      <th>0</th>\n      <td>Oxychlordane</td>\n      <td>33772</td>\n      <td>-1.02</td>\n      <td>-0.80</td>\n      <td>C12C(C(C3(C1O3)Cl)Cl)C4(C(=C(C2(C4(Cl)Cl)Cl)Cl...</td>\n      <td>0.124035</td>\n      <td>0.849923</td>\n      <td>0.000542</td>\n      <td>0.526907</td>\n      <td>0.839296</td>\n      <td>1547.953805</td>\n      <td>2465.693952</td>\n      <td>2937.813664</td>\n      <td>2.863918</td>\n      <td>0.652447</td>\n    </tr>\n    <tr>\n      <th>1</th>\n      <td>DDE</td>\n      <td>3035</td>\n      <td>-0.98</td>\n      <td>-0.64</td>\n      <td>C1=CC(=CC=C1C(=C(Cl)Cl)C2=CC=C(C=C2)Cl)Cl</td>\n      <td>0.358764</td>\n      <td>0.953404</td>\n      <td>0.000564</td>\n      <td>0.301695</td>\n      <td>0.738898</td>\n      <td>1310.388026</td>\n      <td>3209.340032</td>\n      <td>4343.414771</td>\n      <td>3.732887</td>\n      <td>0.245965</td>\n    </tr>\n    <tr>\n      <th>2</th>\n      <td>Mifepristone</td>\n      <td>4196</td>\n      <td>-0.96</td>\n      <td>-0.41</td>\n      <td>CC#CC1(CCC2C1(CC(C3=C4CCC(=O)C=C4CCC23)C5=CC=C...</td>\n      <td>0.183070</td>\n      <td>0.872762</td>\n      <td>0.000197</td>\n      <td>0.488146</td>\n      <td>0.640115</td>\n      <td>3254.022601</td>\n      <td>4267.066604</td>\n      <td>6666.088659</td>\n      <td>4.063487</td>\n      <td>0.256209</td>\n    </tr>\n    <tr>\n      <th>3</th>\n      <td>Atazanavir</td>\n      <td>148192</td>\n      <td>-0.89</td>\n      <td>-0.70</td>\n      <td>CC(C)(C)[C@@H](C(=O)N[C@@H](CC1=CC=CC=C1)[C@H]...</td>\n      <td>0.210077</td>\n      <td>0.900806</td>\n      <td>0.000076</td>\n      <td>0.434221</td>\n      <td>0.704534</td>\n      <td>9264.157011</td>\n      <td>15031.319416</td>\n      <td>21335.124767</td>\n      <td>5.689301</td>\n      <td>0.259332</td>\n    </tr>\n    <tr>\n      <th>4</th>\n      <td>Nonachlor</td>\n      <td>19520</td>\n      <td>-0.84</td>\n      <td>-1.00</td>\n      <td>C12C(C(C(C1Cl)Cl)Cl)C3(C(=C(C2(C3(Cl)Cl)Cl)Cl)...</td>\n      <td>0.049676</td>\n      <td>0.733965</td>\n      <td>0.000402</td>\n      <td>0.679187</td>\n      <td>0.820061</td>\n      <td>2042.082998</td>\n      <td>2465.639941</td>\n      <td>3006.655892</td>\n      <td>2.908232</td>\n      <td>0.733779</td>\n    </tr>\n  </tbody>\n</table>\n</div>"
     },
     "metadata": {},
     "execution_count": 20
    }
   ],
   "source": [
    "df_3d.head()"
   ]
  },
  {
   "cell_type": "code",
   "execution_count": 21,
   "metadata": {},
   "outputs": [],
   "source": [
    "df_3d.to_csv('3d_desc.csv')"
   ]
  },
  {
   "source": [
    "## Calculate ECFP4 Fingerprint"
   ],
   "cell_type": "markdown",
   "metadata": {}
  },
  {
   "cell_type": "code",
   "execution_count": 22,
   "metadata": {
    "tags": []
   },
   "outputs": [
    {
     "output_type": "execute_result",
     "data": {
      "text/plain": [
       "           Name  PubChem CID  Observed logFM  Predicted logFM  \\\n",
       "0  Oxychlordane        33772           -1.02            -0.80   \n",
       "1           DDE         3035           -0.98            -0.64   \n",
       "2  Mifepristone         4196           -0.96            -0.41   \n",
       "3    Atazanavir       148192           -0.89            -0.70   \n",
       "4     Nonachlor        19520           -0.84            -1.00   \n",
       "\n",
       "                                              SMILES  0  1  2  3  4  ...  \\\n",
       "0  C12C(C(C3(C1O3)Cl)Cl)C4(C(=C(C2(C4(Cl)Cl)Cl)Cl...  0  0  0  0  0  ...   \n",
       "1          C1=CC(=CC=C1C(=C(Cl)Cl)C2=CC=C(C=C2)Cl)Cl  0  0  0  0  0  ...   \n",
       "2  CC#CC1(CCC2C1(CC(C3=C4CCC(=O)C=C4CCC23)C5=CC=C...  0  0  0  0  0  ...   \n",
       "3  CC(C)(C)[C@@H](C(=O)N[C@@H](CC1=CC=CC=C1)[C@H]...  0  0  0  0  0  ...   \n",
       "4  C12C(C(C(C1Cl)Cl)Cl)C3(C(=C(C2(C3(Cl)Cl)Cl)Cl)...  0  0  0  0  0  ...   \n",
       "\n",
       "   2038  2039  2040  2041  2042  2043  2044  2045  2046  2047  \n",
       "0     0     0     0     0     0     0     0     0     0     0  \n",
       "1     0     0     0     0     0     0     0     0     0     0  \n",
       "2     0     0     0     0     0     0     0     0     0     0  \n",
       "3     0     0     0     0     0     0     0     0     1     0  \n",
       "4     0     0     0     0     0     0     0     0     0     0  \n",
       "\n",
       "[5 rows x 2053 columns]"
      ],
      "text/html": "<div>\n<style scoped>\n    .dataframe tbody tr th:only-of-type {\n        vertical-align: middle;\n    }\n\n    .dataframe tbody tr th {\n        vertical-align: top;\n    }\n\n    .dataframe thead th {\n        text-align: right;\n    }\n</style>\n<table border=\"1\" class=\"dataframe\">\n  <thead>\n    <tr style=\"text-align: right;\">\n      <th></th>\n      <th>Name</th>\n      <th>PubChem CID</th>\n      <th>Observed logFM</th>\n      <th>Predicted logFM</th>\n      <th>SMILES</th>\n      <th>0</th>\n      <th>1</th>\n      <th>2</th>\n      <th>3</th>\n      <th>4</th>\n      <th>...</th>\n      <th>2038</th>\n      <th>2039</th>\n      <th>2040</th>\n      <th>2041</th>\n      <th>2042</th>\n      <th>2043</th>\n      <th>2044</th>\n      <th>2045</th>\n      <th>2046</th>\n      <th>2047</th>\n    </tr>\n  </thead>\n  <tbody>\n    <tr>\n      <th>0</th>\n      <td>Oxychlordane</td>\n      <td>33772</td>\n      <td>-1.02</td>\n      <td>-0.80</td>\n      <td>C12C(C(C3(C1O3)Cl)Cl)C4(C(=C(C2(C4(Cl)Cl)Cl)Cl...</td>\n      <td>0</td>\n      <td>0</td>\n      <td>0</td>\n      <td>0</td>\n      <td>0</td>\n      <td>...</td>\n      <td>0</td>\n      <td>0</td>\n      <td>0</td>\n      <td>0</td>\n      <td>0</td>\n      <td>0</td>\n      <td>0</td>\n      <td>0</td>\n      <td>0</td>\n      <td>0</td>\n    </tr>\n    <tr>\n      <th>1</th>\n      <td>DDE</td>\n      <td>3035</td>\n      <td>-0.98</td>\n      <td>-0.64</td>\n      <td>C1=CC(=CC=C1C(=C(Cl)Cl)C2=CC=C(C=C2)Cl)Cl</td>\n      <td>0</td>\n      <td>0</td>\n      <td>0</td>\n      <td>0</td>\n      <td>0</td>\n      <td>...</td>\n      <td>0</td>\n      <td>0</td>\n      <td>0</td>\n      <td>0</td>\n      <td>0</td>\n      <td>0</td>\n      <td>0</td>\n      <td>0</td>\n      <td>0</td>\n      <td>0</td>\n    </tr>\n    <tr>\n      <th>2</th>\n      <td>Mifepristone</td>\n      <td>4196</td>\n      <td>-0.96</td>\n      <td>-0.41</td>\n      <td>CC#CC1(CCC2C1(CC(C3=C4CCC(=O)C=C4CCC23)C5=CC=C...</td>\n      <td>0</td>\n      <td>0</td>\n      <td>0</td>\n      <td>0</td>\n      <td>0</td>\n      <td>...</td>\n      <td>0</td>\n      <td>0</td>\n      <td>0</td>\n      <td>0</td>\n      <td>0</td>\n      <td>0</td>\n      <td>0</td>\n      <td>0</td>\n      <td>0</td>\n      <td>0</td>\n    </tr>\n    <tr>\n      <th>3</th>\n      <td>Atazanavir</td>\n      <td>148192</td>\n      <td>-0.89</td>\n      <td>-0.70</td>\n      <td>CC(C)(C)[C@@H](C(=O)N[C@@H](CC1=CC=CC=C1)[C@H]...</td>\n      <td>0</td>\n      <td>0</td>\n      <td>0</td>\n      <td>0</td>\n      <td>0</td>\n      <td>...</td>\n      <td>0</td>\n      <td>0</td>\n      <td>0</td>\n      <td>0</td>\n      <td>0</td>\n      <td>0</td>\n      <td>0</td>\n      <td>0</td>\n      <td>1</td>\n      <td>0</td>\n    </tr>\n    <tr>\n      <th>4</th>\n      <td>Nonachlor</td>\n      <td>19520</td>\n      <td>-0.84</td>\n      <td>-1.00</td>\n      <td>C12C(C(C(C1Cl)Cl)Cl)C3(C(=C(C2(C3(Cl)Cl)Cl)Cl)...</td>\n      <td>0</td>\n      <td>0</td>\n      <td>0</td>\n      <td>0</td>\n      <td>0</td>\n      <td>...</td>\n      <td>0</td>\n      <td>0</td>\n      <td>0</td>\n      <td>0</td>\n      <td>0</td>\n      <td>0</td>\n      <td>0</td>\n      <td>0</td>\n      <td>0</td>\n      <td>0</td>\n    </tr>\n  </tbody>\n</table>\n<p>5 rows × 2053 columns</p>\n</div>"
     },
     "metadata": {},
     "execution_count": 22
    }
   ],
   "source": [
    "from rdkit import DataStructs\n",
    "import numpy as np\n",
    "\n",
    "mols = [smiles_to_conformation(smiles) for smiles in df['SMILES']]\n",
    "fp = np.vstack(list(map(lambda mol: AllChem.GetMorganFingerprintAsBitVect(mol, radius=2, nBits=2048), mols)))\n",
    "df_fp = pd.concat([df, pd.DataFrame(fp)], axis=1)\n",
    "df_fp.head()"
   ]
  },
  {
   "cell_type": "code",
   "execution_count": 23,
   "metadata": {},
   "outputs": [],
   "source": [
    "df_fp.to_csv('fp.csv')"
   ]
  },
  {
   "cell_type": "code",
   "execution_count": null,
   "metadata": {},
   "outputs": [],
   "source": []
  }
 ],
 "metadata": {
  "kernelspec": {
   "display_name": "Python 3.7.6 64-bit ('anaconda3-2020.02': conda)",
   "language": "python",
   "name": "python37664bitanaconda3202002condade494b4cf82c4a2cb6d4e96ac1bb08de"
  },
  "language_info": {
   "codemirror_mode": {
    "name": "ipython",
    "version": 3
   },
   "file_extension": ".py",
   "mimetype": "text/x-python",
   "name": "python",
   "nbconvert_exporter": "python",
   "pygments_lexer": "ipython3",
   "version": "3.7.6-final"
  }
 },
 "nbformat": 4,
 "nbformat_minor": 4
}