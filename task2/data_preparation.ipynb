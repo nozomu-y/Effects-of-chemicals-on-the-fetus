{
 "cells": [
  {
   "source": [
    "# Prediction of Placental Barrier Permeability"
   ],
   "cell_type": "markdown",
   "metadata": {}
  },
  {
   "cell_type": "markdown",
   "metadata": {},
   "source": [
    "## Import data"
   ]
  },
  {
   "cell_type": "code",
   "execution_count": 1,
   "metadata": {
    "tags": []
   },
   "outputs": [],
   "source": [
    "import pandas as pd"
   ]
  },
  {
   "cell_type": "code",
   "execution_count": 2,
   "metadata": {},
   "outputs": [],
   "source": [
    "df = pd.read_csv(\"./task2.csv\")\n",
    "df = df.drop('Unnamed: 0',axis=1)"
   ]
  },
  {
   "cell_type": "code",
   "execution_count": 3,
   "metadata": {},
   "outputs": [
    {
     "output_type": "execute_result",
     "data": {
      "text/plain": [
       "          Compound  No.                                             SMILES  \\\n",
       "0         Abacavir    1  NC1=NC(NC2CC2)=C2N=CN([C@@H]3C[C@H](CO)C=C3)C2=N1   \n",
       "1         Acipimox    2                        CC1=CN=C(C=[N+]1[O-])C(=O)O   \n",
       "2        Acyclovir    3                     NC1=NC(=O)C2=C(N1)N(COCCO)C=N2   \n",
       "3          Alanine    4                                        CC(N)C(O)=O   \n",
       "4       Alfentanil    5  CCN1N=NN(CCN2CCC(COC)(CC2)N(C(=O)CC)C2=CC=CC=C...   \n",
       "..             ...  ...                                                ...   \n",
       "82  Trovafl oxacin   84  O=C(C1=CN(C2=CC=C(F)C=C2F)C3=C(C=C(F)C(N4CC5C(...   \n",
       "83            Urea   85                                            NC(N)=O   \n",
       "84   Valproic acid   86                                    CCCC(CCC)C(O)=O   \n",
       "85     Vinblastine   87  CC[C@]1(O)C[C@@H]2CN(C1)CCC1=C(NC3=CC=CC=C13)[...   \n",
       "86     Zalcitabine   88               C1C[C@@H](O[C@@H]1CO)N2C=CC(=NC2=O)N   \n",
       "\n",
       "              Name  CI-Obs.  CI-Cal.  Test  \n",
       "0         Abacavir     0.47     0.62     1  \n",
       "1         Acipimox     0.25     0.38     0  \n",
       "2        Acyclovir     0.17     0.09     1  \n",
       "3          Alanine     0.30     0.40     1  \n",
       "4       Alfentanil     0.75     0.68     0  \n",
       "..             ...      ...      ...   ...  \n",
       "82  Trovafl oxacin     0.19     0.23     0  \n",
       "83            Urea     0.32     0.28     0  \n",
       "84   Valproic_acid     0.95     0.93     0  \n",
       "85     Vinblastine     0.31     0.23     0  \n",
       "86     Zalcitabine     0.22     0.34     0  \n",
       "\n",
       "[87 rows x 7 columns]"
      ],
      "text/html": "<div>\n<style scoped>\n    .dataframe tbody tr th:only-of-type {\n        vertical-align: middle;\n    }\n\n    .dataframe tbody tr th {\n        vertical-align: top;\n    }\n\n    .dataframe thead th {\n        text-align: right;\n    }\n</style>\n<table border=\"1\" class=\"dataframe\">\n  <thead>\n    <tr style=\"text-align: right;\">\n      <th></th>\n      <th>Compound</th>\n      <th>No.</th>\n      <th>SMILES</th>\n      <th>Name</th>\n      <th>CI-Obs.</th>\n      <th>CI-Cal.</th>\n      <th>Test</th>\n    </tr>\n  </thead>\n  <tbody>\n    <tr>\n      <th>0</th>\n      <td>Abacavir</td>\n      <td>1</td>\n      <td>NC1=NC(NC2CC2)=C2N=CN([C@@H]3C[C@H](CO)C=C3)C2=N1</td>\n      <td>Abacavir</td>\n      <td>0.47</td>\n      <td>0.62</td>\n      <td>1</td>\n    </tr>\n    <tr>\n      <th>1</th>\n      <td>Acipimox</td>\n      <td>2</td>\n      <td>CC1=CN=C(C=[N+]1[O-])C(=O)O</td>\n      <td>Acipimox</td>\n      <td>0.25</td>\n      <td>0.38</td>\n      <td>0</td>\n    </tr>\n    <tr>\n      <th>2</th>\n      <td>Acyclovir</td>\n      <td>3</td>\n      <td>NC1=NC(=O)C2=C(N1)N(COCCO)C=N2</td>\n      <td>Acyclovir</td>\n      <td>0.17</td>\n      <td>0.09</td>\n      <td>1</td>\n    </tr>\n    <tr>\n      <th>3</th>\n      <td>Alanine</td>\n      <td>4</td>\n      <td>CC(N)C(O)=O</td>\n      <td>Alanine</td>\n      <td>0.30</td>\n      <td>0.40</td>\n      <td>1</td>\n    </tr>\n    <tr>\n      <th>4</th>\n      <td>Alfentanil</td>\n      <td>5</td>\n      <td>CCN1N=NN(CCN2CCC(COC)(CC2)N(C(=O)CC)C2=CC=CC=C...</td>\n      <td>Alfentanil</td>\n      <td>0.75</td>\n      <td>0.68</td>\n      <td>0</td>\n    </tr>\n    <tr>\n      <th>...</th>\n      <td>...</td>\n      <td>...</td>\n      <td>...</td>\n      <td>...</td>\n      <td>...</td>\n      <td>...</td>\n      <td>...</td>\n    </tr>\n    <tr>\n      <th>82</th>\n      <td>Trovafl oxacin</td>\n      <td>84</td>\n      <td>O=C(C1=CN(C2=CC=C(F)C=C2F)C3=C(C=C(F)C(N4CC5C(...</td>\n      <td>Trovafl oxacin</td>\n      <td>0.19</td>\n      <td>0.23</td>\n      <td>0</td>\n    </tr>\n    <tr>\n      <th>83</th>\n      <td>Urea</td>\n      <td>85</td>\n      <td>NC(N)=O</td>\n      <td>Urea</td>\n      <td>0.32</td>\n      <td>0.28</td>\n      <td>0</td>\n    </tr>\n    <tr>\n      <th>84</th>\n      <td>Valproic acid</td>\n      <td>86</td>\n      <td>CCCC(CCC)C(O)=O</td>\n      <td>Valproic_acid</td>\n      <td>0.95</td>\n      <td>0.93</td>\n      <td>0</td>\n    </tr>\n    <tr>\n      <th>85</th>\n      <td>Vinblastine</td>\n      <td>87</td>\n      <td>CC[C@]1(O)C[C@@H]2CN(C1)CCC1=C(NC3=CC=CC=C13)[...</td>\n      <td>Vinblastine</td>\n      <td>0.31</td>\n      <td>0.23</td>\n      <td>0</td>\n    </tr>\n    <tr>\n      <th>86</th>\n      <td>Zalcitabine</td>\n      <td>88</td>\n      <td>C1C[C@@H](O[C@@H]1CO)N2C=CC(=NC2=O)N</td>\n      <td>Zalcitabine</td>\n      <td>0.22</td>\n      <td>0.34</td>\n      <td>0</td>\n    </tr>\n  </tbody>\n</table>\n<p>87 rows × 7 columns</p>\n</div>"
     },
     "metadata": {},
     "execution_count": 3
    }
   ],
   "source": [
    "df"
   ]
  },
  {
   "source": [
    "### Check if there are any null values"
   ],
   "cell_type": "markdown",
   "metadata": {}
  },
  {
   "cell_type": "code",
   "execution_count": 4,
   "metadata": {},
   "outputs": [
    {
     "output_type": "execute_result",
     "data": {
      "text/plain": [
       "Compound    0\n",
       "No.         0\n",
       "SMILES      0\n",
       "Name        0\n",
       "CI-Obs.     0\n",
       "CI-Cal.     0\n",
       "Test        0\n",
       "dtype: int64"
      ]
     },
     "metadata": {},
     "execution_count": 4
    }
   ],
   "source": [
    "df.isnull().sum()"
   ]
  },
  {
   "source": [
    "No need to complement data. "
   ],
   "cell_type": "markdown",
   "metadata": {}
  },
  {
   "cell_type": "code",
   "execution_count": 5,
   "metadata": {},
   "outputs": [],
   "source": [
    "df.to_csv('data.csv')"
   ]
  },
  {
   "source": [
    "## Calculate 1D/2D Descriptors"
   ],
   "cell_type": "markdown",
   "metadata": {}
  },
  {
   "cell_type": "code",
   "execution_count": 6,
   "metadata": {},
   "outputs": [],
   "source": [
    "from rdkit import Chem\n",
    "from rdkit.Chem import Descriptors\n",
    "from rdkit.ML.Descriptors import MoleculeDescriptors"
   ]
  },
  {
   "cell_type": "code",
   "execution_count": 7,
   "metadata": {
    "tags": []
   },
   "outputs": [],
   "source": [
    "names = df.index\n",
    "mols = [ Chem.MolFromSmiles(mol) for mol in df['SMILES']]\n",
    "# List of all descriptors\n",
    "descLists = [desc_name[0] for desc_name in Descriptors.descList]\n",
    "desc_calc = MoleculeDescriptors.MolecularDescriptorCalculator(descLists)\n",
    "data = [desc_calc.CalcDescriptors(mol) for mol in mols]\n",
    "df_desc = pd.DataFrame(data, columns=descLists, index=names)\n",
    "df_1d2d = pd.concat([df, df_desc], axis=1)"
   ]
  },
  {
   "cell_type": "code",
   "execution_count": 8,
   "metadata": {},
   "outputs": [
    {
     "output_type": "execute_result",
     "data": {
      "text/plain": [
       "          Compound  No.                                             SMILES  \\\n",
       "0         Abacavir    1  NC1=NC(NC2CC2)=C2N=CN([C@@H]3C[C@H](CO)C=C3)C2=N1   \n",
       "1         Acipimox    2                        CC1=CN=C(C=[N+]1[O-])C(=O)O   \n",
       "2        Acyclovir    3                     NC1=NC(=O)C2=C(N1)N(COCCO)C=N2   \n",
       "3          Alanine    4                                        CC(N)C(O)=O   \n",
       "4       Alfentanil    5  CCN1N=NN(CCN2CCC(COC)(CC2)N(C(=O)CC)C2=CC=CC=C...   \n",
       "..             ...  ...                                                ...   \n",
       "82  Trovafl oxacin   84  O=C(C1=CN(C2=CC=C(F)C=C2F)C3=C(C=C(F)C(N4CC5C(...   \n",
       "83            Urea   85                                            NC(N)=O   \n",
       "84   Valproic acid   86                                    CCCC(CCC)C(O)=O   \n",
       "85     Vinblastine   87  CC[C@]1(O)C[C@@H]2CN(C1)CCC1=C(NC3=CC=CC=C13)[...   \n",
       "86     Zalcitabine   88               C1C[C@@H](O[C@@H]1CO)N2C=CC(=NC2=O)N   \n",
       "\n",
       "              Name  CI-Obs.  CI-Cal.  Test  MaxEStateIndex  MinEStateIndex  \\\n",
       "0         Abacavir     0.47     0.62     1        9.257136        0.162245   \n",
       "1         Acipimox     0.25     0.38     0       10.757593       -1.199444   \n",
       "2        Acyclovir     0.17     0.09     1       11.375082       -0.479483   \n",
       "3          Alanine     0.30     0.40     1        9.574074       -0.962963   \n",
       "4       Alfentanil     0.75     0.68     0       12.953415       -0.373136   \n",
       "..             ...      ...      ...   ...             ...             ...   \n",
       "82  Trovafl oxacin     0.19     0.23     0       14.835016       -1.559007   \n",
       "83            Urea     0.32     0.28     0        9.000000       -0.833333   \n",
       "84   Valproic_acid     0.95     0.93     0       10.479352       -0.635463   \n",
       "85     Vinblastine     0.31     0.23     0       15.321994       -2.301098   \n",
       "86     Zalcitabine     0.22     0.34     0       11.451388       -0.417972   \n",
       "\n",
       "    MaxAbsEStateIndex  ...  fr_sulfide  fr_sulfonamd  fr_sulfone  \\\n",
       "0            9.257136  ...           0             0           0   \n",
       "1           10.757593  ...           0             0           0   \n",
       "2           11.375082  ...           0             0           0   \n",
       "3            9.574074  ...           0             0           0   \n",
       "4           12.953415  ...           0             0           0   \n",
       "..                ...  ...         ...           ...         ...   \n",
       "82          14.835016  ...           0             0           0   \n",
       "83           9.000000  ...           0             0           0   \n",
       "84          10.479352  ...           0             0           0   \n",
       "85          15.321994  ...           0             0           0   \n",
       "86          11.451388  ...           0             0           0   \n",
       "\n",
       "    fr_term_acetylene  fr_tetrazole  fr_thiazole  fr_thiocyan  fr_thiophene  \\\n",
       "0                   0             0            0            0             0   \n",
       "1                   0             0            0            0             0   \n",
       "2                   0             0            0            0             0   \n",
       "3                   0             0            0            0             0   \n",
       "4                   0             1            0            0             0   \n",
       "..                ...           ...          ...          ...           ...   \n",
       "82                  0             0            0            0             0   \n",
       "83                  0             0            0            0             0   \n",
       "84                  0             0            0            0             0   \n",
       "85                  0             0            0            0             0   \n",
       "86                  0             0            0            0             0   \n",
       "\n",
       "    fr_unbrch_alkane  fr_urea  \n",
       "0                  0        0  \n",
       "1                  0        0  \n",
       "2                  1        0  \n",
       "3                  0        0  \n",
       "4                  0        0  \n",
       "..               ...      ...  \n",
       "82                 0        0  \n",
       "83                 0        1  \n",
       "84                 0        0  \n",
       "85                 0        0  \n",
       "86                 0        0  \n",
       "\n",
       "[87 rows x 207 columns]"
      ],
      "text/html": "<div>\n<style scoped>\n    .dataframe tbody tr th:only-of-type {\n        vertical-align: middle;\n    }\n\n    .dataframe tbody tr th {\n        vertical-align: top;\n    }\n\n    .dataframe thead th {\n        text-align: right;\n    }\n</style>\n<table border=\"1\" class=\"dataframe\">\n  <thead>\n    <tr style=\"text-align: right;\">\n      <th></th>\n      <th>Compound</th>\n      <th>No.</th>\n      <th>SMILES</th>\n      <th>Name</th>\n      <th>CI-Obs.</th>\n      <th>CI-Cal.</th>\n      <th>Test</th>\n      <th>MaxEStateIndex</th>\n      <th>MinEStateIndex</th>\n      <th>MaxAbsEStateIndex</th>\n      <th>...</th>\n      <th>fr_sulfide</th>\n      <th>fr_sulfonamd</th>\n      <th>fr_sulfone</th>\n      <th>fr_term_acetylene</th>\n      <th>fr_tetrazole</th>\n      <th>fr_thiazole</th>\n      <th>fr_thiocyan</th>\n      <th>fr_thiophene</th>\n      <th>fr_unbrch_alkane</th>\n      <th>fr_urea</th>\n    </tr>\n  </thead>\n  <tbody>\n    <tr>\n      <th>0</th>\n      <td>Abacavir</td>\n      <td>1</td>\n      <td>NC1=NC(NC2CC2)=C2N=CN([C@@H]3C[C@H](CO)C=C3)C2=N1</td>\n      <td>Abacavir</td>\n      <td>0.47</td>\n      <td>0.62</td>\n      <td>1</td>\n      <td>9.257136</td>\n      <td>0.162245</td>\n      <td>9.257136</td>\n      <td>...</td>\n      <td>0</td>\n      <td>0</td>\n      <td>0</td>\n      <td>0</td>\n      <td>0</td>\n      <td>0</td>\n      <td>0</td>\n      <td>0</td>\n      <td>0</td>\n      <td>0</td>\n    </tr>\n    <tr>\n      <th>1</th>\n      <td>Acipimox</td>\n      <td>2</td>\n      <td>CC1=CN=C(C=[N+]1[O-])C(=O)O</td>\n      <td>Acipimox</td>\n      <td>0.25</td>\n      <td>0.38</td>\n      <td>0</td>\n      <td>10.757593</td>\n      <td>-1.199444</td>\n      <td>10.757593</td>\n      <td>...</td>\n      <td>0</td>\n      <td>0</td>\n      <td>0</td>\n      <td>0</td>\n      <td>0</td>\n      <td>0</td>\n      <td>0</td>\n      <td>0</td>\n      <td>0</td>\n      <td>0</td>\n    </tr>\n    <tr>\n      <th>2</th>\n      <td>Acyclovir</td>\n      <td>3</td>\n      <td>NC1=NC(=O)C2=C(N1)N(COCCO)C=N2</td>\n      <td>Acyclovir</td>\n      <td>0.17</td>\n      <td>0.09</td>\n      <td>1</td>\n      <td>11.375082</td>\n      <td>-0.479483</td>\n      <td>11.375082</td>\n      <td>...</td>\n      <td>0</td>\n      <td>0</td>\n      <td>0</td>\n      <td>0</td>\n      <td>0</td>\n      <td>0</td>\n      <td>0</td>\n      <td>0</td>\n      <td>1</td>\n      <td>0</td>\n    </tr>\n    <tr>\n      <th>3</th>\n      <td>Alanine</td>\n      <td>4</td>\n      <td>CC(N)C(O)=O</td>\n      <td>Alanine</td>\n      <td>0.30</td>\n      <td>0.40</td>\n      <td>1</td>\n      <td>9.574074</td>\n      <td>-0.962963</td>\n      <td>9.574074</td>\n      <td>...</td>\n      <td>0</td>\n      <td>0</td>\n      <td>0</td>\n      <td>0</td>\n      <td>0</td>\n      <td>0</td>\n      <td>0</td>\n      <td>0</td>\n      <td>0</td>\n      <td>0</td>\n    </tr>\n    <tr>\n      <th>4</th>\n      <td>Alfentanil</td>\n      <td>5</td>\n      <td>CCN1N=NN(CCN2CCC(COC)(CC2)N(C(=O)CC)C2=CC=CC=C...</td>\n      <td>Alfentanil</td>\n      <td>0.75</td>\n      <td>0.68</td>\n      <td>0</td>\n      <td>12.953415</td>\n      <td>-0.373136</td>\n      <td>12.953415</td>\n      <td>...</td>\n      <td>0</td>\n      <td>0</td>\n      <td>0</td>\n      <td>0</td>\n      <td>1</td>\n      <td>0</td>\n      <td>0</td>\n      <td>0</td>\n      <td>0</td>\n      <td>0</td>\n    </tr>\n    <tr>\n      <th>...</th>\n      <td>...</td>\n      <td>...</td>\n      <td>...</td>\n      <td>...</td>\n      <td>...</td>\n      <td>...</td>\n      <td>...</td>\n      <td>...</td>\n      <td>...</td>\n      <td>...</td>\n      <td>...</td>\n      <td>...</td>\n      <td>...</td>\n      <td>...</td>\n      <td>...</td>\n      <td>...</td>\n      <td>...</td>\n      <td>...</td>\n      <td>...</td>\n      <td>...</td>\n      <td>...</td>\n    </tr>\n    <tr>\n      <th>82</th>\n      <td>Trovafl oxacin</td>\n      <td>84</td>\n      <td>O=C(C1=CN(C2=CC=C(F)C=C2F)C3=C(C=C(F)C(N4CC5C(...</td>\n      <td>Trovafl oxacin</td>\n      <td>0.19</td>\n      <td>0.23</td>\n      <td>0</td>\n      <td>14.835016</td>\n      <td>-1.559007</td>\n      <td>14.835016</td>\n      <td>...</td>\n      <td>0</td>\n      <td>0</td>\n      <td>0</td>\n      <td>0</td>\n      <td>0</td>\n      <td>0</td>\n      <td>0</td>\n      <td>0</td>\n      <td>0</td>\n      <td>0</td>\n    </tr>\n    <tr>\n      <th>83</th>\n      <td>Urea</td>\n      <td>85</td>\n      <td>NC(N)=O</td>\n      <td>Urea</td>\n      <td>0.32</td>\n      <td>0.28</td>\n      <td>0</td>\n      <td>9.000000</td>\n      <td>-0.833333</td>\n      <td>9.000000</td>\n      <td>...</td>\n      <td>0</td>\n      <td>0</td>\n      <td>0</td>\n      <td>0</td>\n      <td>0</td>\n      <td>0</td>\n      <td>0</td>\n      <td>0</td>\n      <td>0</td>\n      <td>1</td>\n    </tr>\n    <tr>\n      <th>84</th>\n      <td>Valproic acid</td>\n      <td>86</td>\n      <td>CCCC(CCC)C(O)=O</td>\n      <td>Valproic_acid</td>\n      <td>0.95</td>\n      <td>0.93</td>\n      <td>0</td>\n      <td>10.479352</td>\n      <td>-0.635463</td>\n      <td>10.479352</td>\n      <td>...</td>\n      <td>0</td>\n      <td>0</td>\n      <td>0</td>\n      <td>0</td>\n      <td>0</td>\n      <td>0</td>\n      <td>0</td>\n      <td>0</td>\n      <td>0</td>\n      <td>0</td>\n    </tr>\n    <tr>\n      <th>85</th>\n      <td>Vinblastine</td>\n      <td>87</td>\n      <td>CC[C@]1(O)C[C@@H]2CN(C1)CCC1=C(NC3=CC=CC=C13)[...</td>\n      <td>Vinblastine</td>\n      <td>0.31</td>\n      <td>0.23</td>\n      <td>0</td>\n      <td>15.321994</td>\n      <td>-2.301098</td>\n      <td>15.321994</td>\n      <td>...</td>\n      <td>0</td>\n      <td>0</td>\n      <td>0</td>\n      <td>0</td>\n      <td>0</td>\n      <td>0</td>\n      <td>0</td>\n      <td>0</td>\n      <td>0</td>\n      <td>0</td>\n    </tr>\n    <tr>\n      <th>86</th>\n      <td>Zalcitabine</td>\n      <td>88</td>\n      <td>C1C[C@@H](O[C@@H]1CO)N2C=CC(=NC2=O)N</td>\n      <td>Zalcitabine</td>\n      <td>0.22</td>\n      <td>0.34</td>\n      <td>0</td>\n      <td>11.451388</td>\n      <td>-0.417972</td>\n      <td>11.451388</td>\n      <td>...</td>\n      <td>0</td>\n      <td>0</td>\n      <td>0</td>\n      <td>0</td>\n      <td>0</td>\n      <td>0</td>\n      <td>0</td>\n      <td>0</td>\n      <td>0</td>\n      <td>0</td>\n    </tr>\n  </tbody>\n</table>\n<p>87 rows × 207 columns</p>\n</div>"
     },
     "metadata": {},
     "execution_count": 8
    }
   ],
   "source": [
    "df_1d2d"
   ]
  },
  {
   "cell_type": "code",
   "execution_count": 9,
   "metadata": {},
   "outputs": [],
   "source": [
    "df_1d2d.to_csv('1d2d_desc.csv')"
   ]
  },
  {
   "source": [
    "## Calculate 3D Descriptors using ETKDGv2"
   ],
   "cell_type": "markdown",
   "metadata": {}
  },
  {
   "cell_type": "code",
   "execution_count": 10,
   "metadata": {},
   "outputs": [],
   "source": [
    "from rdkit.Chem import AllChem, Descriptors3D"
   ]
  },
  {
   "cell_type": "code",
   "execution_count": 11,
   "metadata": {},
   "outputs": [],
   "source": [
    "def smiles_to_conformation(smiles):\n",
    "    comp = Chem.MolFromSmiles(smiles)\n",
    "    comp_h = AllChem.AddHs(comp)\n",
    "    AllChem.EmbedMolecule(comp_h, AllChem.ETKDGv2())\n",
    "    return comp_h"
   ]
  },
  {
   "cell_type": "code",
   "execution_count": 12,
   "metadata": {
    "tags": []
   },
   "outputs": [],
   "source": [
    "descLists = ['Asphericity','Eccentricity','InertialShapeFactor','NPR1','NPR2','PMI1','PMI2','PMI3','RadiusOfGyration','SpherocityIndex']\n",
    "mols = [smiles_to_conformation(smiles) for smiles in df['SMILES']]\n",
    "df_3d = df\n",
    "for desc in descLists:\n",
    "    descCalc = getattr(Descriptors3D, desc)\n",
    "    data = [descCalc(mol) for mol in mols]\n",
    "    df_desc = pd.Series(data, name=desc)\n",
    "    df_3d = pd.concat([df_3d, df_desc], axis=1)"
   ]
  },
  {
   "cell_type": "code",
   "execution_count": 13,
   "metadata": {},
   "outputs": [
    {
     "output_type": "execute_result",
     "data": {
      "text/plain": [
       "          Compound  No.                                             SMILES  \\\n",
       "0         Abacavir    1  NC1=NC(NC2CC2)=C2N=CN([C@@H]3C[C@H](CO)C=C3)C2=N1   \n",
       "1         Acipimox    2                        CC1=CN=C(C=[N+]1[O-])C(=O)O   \n",
       "2        Acyclovir    3                     NC1=NC(=O)C2=C(N1)N(COCCO)C=N2   \n",
       "3          Alanine    4                                        CC(N)C(O)=O   \n",
       "4       Alfentanil    5  CCN1N=NN(CCN2CCC(COC)(CC2)N(C(=O)CC)C2=CC=CC=C...   \n",
       "..             ...  ...                                                ...   \n",
       "82  Trovafl oxacin   84  O=C(C1=CN(C2=CC=C(F)C=C2F)C3=C(C=C(F)C(N4CC5C(...   \n",
       "83            Urea   85                                            NC(N)=O   \n",
       "84   Valproic acid   86                                    CCCC(CCC)C(O)=O   \n",
       "85     Vinblastine   87  CC[C@]1(O)C[C@@H]2CN(C1)CCC1=C(NC3=CC=CC=C13)[...   \n",
       "86     Zalcitabine   88               C1C[C@@H](O[C@@H]1CO)N2C=CC(=NC2=O)N   \n",
       "\n",
       "              Name  CI-Obs.  CI-Cal.  Test  Asphericity  Eccentricity  \\\n",
       "0         Abacavir     0.47     0.62     1     0.459433      0.972642   \n",
       "1         Acipimox     0.25     0.38     0     0.486427      0.975743   \n",
       "2        Acyclovir     0.17     0.09     1     0.452947      0.971415   \n",
       "3          Alanine     0.30     0.40     1     0.209424      0.897321   \n",
       "4       Alfentanil     0.75     0.68     0     0.620307      0.988818   \n",
       "..             ...      ...      ...   ...          ...           ...   \n",
       "82  Trovafl oxacin     0.19     0.23     0     0.267773      0.922921   \n",
       "83            Urea     0.32     0.28     0     0.216881      0.873886   \n",
       "84   Valproic_acid     0.95     0.93     0     0.224514      0.909743   \n",
       "85     Vinblastine     0.31     0.23     0     0.389110      0.961271   \n",
       "86     Zalcitabine     0.22     0.34     0     0.510546      0.977868   \n",
       "\n",
       "    InertialShapeFactor      NPR1      NPR2         PMI1          PMI2  \\\n",
       "0              0.001016  0.232309  0.816769   804.181949   2827.395608   \n",
       "1              0.004011  0.218921  0.785309   195.792700    702.345288   \n",
       "2              0.001497  0.237387  0.790807   528.335986   1760.045835   \n",
       "3              0.006688  0.441379  0.680275   101.712047    156.763556   \n",
       "4              0.000690  0.149130  0.943495  1366.631793   8646.199827   \n",
       "..                  ...       ...       ...          ...           ...   \n",
       "82             0.000254  0.384989  0.674704  2652.815286   4649.134882   \n",
       "83             0.012025  0.486132  0.567849    47.221287     55.159014   \n",
       "84             0.002160  0.415172  0.723711   335.102250    584.135966   \n",
       "85             0.000151  0.275605  0.876644  5807.881486  18473.711909   \n",
       "86             0.002760  0.209224  0.989073   358.381453   1694.190500   \n",
       "\n",
       "            PMI3  RadiusOfGyration  SpherocityIndex  \n",
       "0    3461.684604          3.519393         0.117582  \n",
       "1     894.354968          2.411444         0.044647  \n",
       "2    2225.632593          3.165735         0.097387  \n",
       "3     230.441581          1.656450         0.426039  \n",
       "4    9164.016541          4.797915         0.195626  \n",
       "..           ...               ...              ...  \n",
       "82   6890.633865          4.128400         0.129791  \n",
       "83     97.136848          1.288834         0.309194  \n",
       "84    807.139855          2.446523         0.291450  \n",
       "85  21073.224875          5.287973         0.264433  \n",
       "86   1712.906791          2.985565         0.292590  \n",
       "\n",
       "[87 rows x 17 columns]"
      ],
      "text/html": "<div>\n<style scoped>\n    .dataframe tbody tr th:only-of-type {\n        vertical-align: middle;\n    }\n\n    .dataframe tbody tr th {\n        vertical-align: top;\n    }\n\n    .dataframe thead th {\n        text-align: right;\n    }\n</style>\n<table border=\"1\" class=\"dataframe\">\n  <thead>\n    <tr style=\"text-align: right;\">\n      <th></th>\n      <th>Compound</th>\n      <th>No.</th>\n      <th>SMILES</th>\n      <th>Name</th>\n      <th>CI-Obs.</th>\n      <th>CI-Cal.</th>\n      <th>Test</th>\n      <th>Asphericity</th>\n      <th>Eccentricity</th>\n      <th>InertialShapeFactor</th>\n      <th>NPR1</th>\n      <th>NPR2</th>\n      <th>PMI1</th>\n      <th>PMI2</th>\n      <th>PMI3</th>\n      <th>RadiusOfGyration</th>\n      <th>SpherocityIndex</th>\n    </tr>\n  </thead>\n  <tbody>\n    <tr>\n      <th>0</th>\n      <td>Abacavir</td>\n      <td>1</td>\n      <td>NC1=NC(NC2CC2)=C2N=CN([C@@H]3C[C@H](CO)C=C3)C2=N1</td>\n      <td>Abacavir</td>\n      <td>0.47</td>\n      <td>0.62</td>\n      <td>1</td>\n      <td>0.459433</td>\n      <td>0.972642</td>\n      <td>0.001016</td>\n      <td>0.232309</td>\n      <td>0.816769</td>\n      <td>804.181949</td>\n      <td>2827.395608</td>\n      <td>3461.684604</td>\n      <td>3.519393</td>\n      <td>0.117582</td>\n    </tr>\n    <tr>\n      <th>1</th>\n      <td>Acipimox</td>\n      <td>2</td>\n      <td>CC1=CN=C(C=[N+]1[O-])C(=O)O</td>\n      <td>Acipimox</td>\n      <td>0.25</td>\n      <td>0.38</td>\n      <td>0</td>\n      <td>0.486427</td>\n      <td>0.975743</td>\n      <td>0.004011</td>\n      <td>0.218921</td>\n      <td>0.785309</td>\n      <td>195.792700</td>\n      <td>702.345288</td>\n      <td>894.354968</td>\n      <td>2.411444</td>\n      <td>0.044647</td>\n    </tr>\n    <tr>\n      <th>2</th>\n      <td>Acyclovir</td>\n      <td>3</td>\n      <td>NC1=NC(=O)C2=C(N1)N(COCCO)C=N2</td>\n      <td>Acyclovir</td>\n      <td>0.17</td>\n      <td>0.09</td>\n      <td>1</td>\n      <td>0.452947</td>\n      <td>0.971415</td>\n      <td>0.001497</td>\n      <td>0.237387</td>\n      <td>0.790807</td>\n      <td>528.335986</td>\n      <td>1760.045835</td>\n      <td>2225.632593</td>\n      <td>3.165735</td>\n      <td>0.097387</td>\n    </tr>\n    <tr>\n      <th>3</th>\n      <td>Alanine</td>\n      <td>4</td>\n      <td>CC(N)C(O)=O</td>\n      <td>Alanine</td>\n      <td>0.30</td>\n      <td>0.40</td>\n      <td>1</td>\n      <td>0.209424</td>\n      <td>0.897321</td>\n      <td>0.006688</td>\n      <td>0.441379</td>\n      <td>0.680275</td>\n      <td>101.712047</td>\n      <td>156.763556</td>\n      <td>230.441581</td>\n      <td>1.656450</td>\n      <td>0.426039</td>\n    </tr>\n    <tr>\n      <th>4</th>\n      <td>Alfentanil</td>\n      <td>5</td>\n      <td>CCN1N=NN(CCN2CCC(COC)(CC2)N(C(=O)CC)C2=CC=CC=C...</td>\n      <td>Alfentanil</td>\n      <td>0.75</td>\n      <td>0.68</td>\n      <td>0</td>\n      <td>0.620307</td>\n      <td>0.988818</td>\n      <td>0.000690</td>\n      <td>0.149130</td>\n      <td>0.943495</td>\n      <td>1366.631793</td>\n      <td>8646.199827</td>\n      <td>9164.016541</td>\n      <td>4.797915</td>\n      <td>0.195626</td>\n    </tr>\n    <tr>\n      <th>...</th>\n      <td>...</td>\n      <td>...</td>\n      <td>...</td>\n      <td>...</td>\n      <td>...</td>\n      <td>...</td>\n      <td>...</td>\n      <td>...</td>\n      <td>...</td>\n      <td>...</td>\n      <td>...</td>\n      <td>...</td>\n      <td>...</td>\n      <td>...</td>\n      <td>...</td>\n      <td>...</td>\n      <td>...</td>\n    </tr>\n    <tr>\n      <th>82</th>\n      <td>Trovafl oxacin</td>\n      <td>84</td>\n      <td>O=C(C1=CN(C2=CC=C(F)C=C2F)C3=C(C=C(F)C(N4CC5C(...</td>\n      <td>Trovafl oxacin</td>\n      <td>0.19</td>\n      <td>0.23</td>\n      <td>0</td>\n      <td>0.267773</td>\n      <td>0.922921</td>\n      <td>0.000254</td>\n      <td>0.384989</td>\n      <td>0.674704</td>\n      <td>2652.815286</td>\n      <td>4649.134882</td>\n      <td>6890.633865</td>\n      <td>4.128400</td>\n      <td>0.129791</td>\n    </tr>\n    <tr>\n      <th>83</th>\n      <td>Urea</td>\n      <td>85</td>\n      <td>NC(N)=O</td>\n      <td>Urea</td>\n      <td>0.32</td>\n      <td>0.28</td>\n      <td>0</td>\n      <td>0.216881</td>\n      <td>0.873886</td>\n      <td>0.012025</td>\n      <td>0.486132</td>\n      <td>0.567849</td>\n      <td>47.221287</td>\n      <td>55.159014</td>\n      <td>97.136848</td>\n      <td>1.288834</td>\n      <td>0.309194</td>\n    </tr>\n    <tr>\n      <th>84</th>\n      <td>Valproic acid</td>\n      <td>86</td>\n      <td>CCCC(CCC)C(O)=O</td>\n      <td>Valproic_acid</td>\n      <td>0.95</td>\n      <td>0.93</td>\n      <td>0</td>\n      <td>0.224514</td>\n      <td>0.909743</td>\n      <td>0.002160</td>\n      <td>0.415172</td>\n      <td>0.723711</td>\n      <td>335.102250</td>\n      <td>584.135966</td>\n      <td>807.139855</td>\n      <td>2.446523</td>\n      <td>0.291450</td>\n    </tr>\n    <tr>\n      <th>85</th>\n      <td>Vinblastine</td>\n      <td>87</td>\n      <td>CC[C@]1(O)C[C@@H]2CN(C1)CCC1=C(NC3=CC=CC=C13)[...</td>\n      <td>Vinblastine</td>\n      <td>0.31</td>\n      <td>0.23</td>\n      <td>0</td>\n      <td>0.389110</td>\n      <td>0.961271</td>\n      <td>0.000151</td>\n      <td>0.275605</td>\n      <td>0.876644</td>\n      <td>5807.881486</td>\n      <td>18473.711909</td>\n      <td>21073.224875</td>\n      <td>5.287973</td>\n      <td>0.264433</td>\n    </tr>\n    <tr>\n      <th>86</th>\n      <td>Zalcitabine</td>\n      <td>88</td>\n      <td>C1C[C@@H](O[C@@H]1CO)N2C=CC(=NC2=O)N</td>\n      <td>Zalcitabine</td>\n      <td>0.22</td>\n      <td>0.34</td>\n      <td>0</td>\n      <td>0.510546</td>\n      <td>0.977868</td>\n      <td>0.002760</td>\n      <td>0.209224</td>\n      <td>0.989073</td>\n      <td>358.381453</td>\n      <td>1694.190500</td>\n      <td>1712.906791</td>\n      <td>2.985565</td>\n      <td>0.292590</td>\n    </tr>\n  </tbody>\n</table>\n<p>87 rows × 17 columns</p>\n</div>"
     },
     "metadata": {},
     "execution_count": 13
    }
   ],
   "source": [
    "df_3d"
   ]
  },
  {
   "cell_type": "code",
   "execution_count": 14,
   "metadata": {},
   "outputs": [],
   "source": [
    "df_3d.to_csv('3d_desc.csv')"
   ]
  },
  {
   "source": [
    "## Calculate ECFP4 Fingerprint"
   ],
   "cell_type": "markdown",
   "metadata": {}
  },
  {
   "cell_type": "code",
   "execution_count": 15,
   "metadata": {
    "tags": []
   },
   "outputs": [
    {
     "output_type": "execute_result",
     "data": {
      "text/plain": [
       "          Compound  No.                                             SMILES  \\\n",
       "0         Abacavir    1  NC1=NC(NC2CC2)=C2N=CN([C@@H]3C[C@H](CO)C=C3)C2=N1   \n",
       "1         Acipimox    2                        CC1=CN=C(C=[N+]1[O-])C(=O)O   \n",
       "2        Acyclovir    3                     NC1=NC(=O)C2=C(N1)N(COCCO)C=N2   \n",
       "3          Alanine    4                                        CC(N)C(O)=O   \n",
       "4       Alfentanil    5  CCN1N=NN(CCN2CCC(COC)(CC2)N(C(=O)CC)C2=CC=CC=C...   \n",
       "..             ...  ...                                                ...   \n",
       "82  Trovafl oxacin   84  O=C(C1=CN(C2=CC=C(F)C=C2F)C3=C(C=C(F)C(N4CC5C(...   \n",
       "83            Urea   85                                            NC(N)=O   \n",
       "84   Valproic acid   86                                    CCCC(CCC)C(O)=O   \n",
       "85     Vinblastine   87  CC[C@]1(O)C[C@@H]2CN(C1)CCC1=C(NC3=CC=CC=C13)[...   \n",
       "86     Zalcitabine   88               C1C[C@@H](O[C@@H]1CO)N2C=CC(=NC2=O)N   \n",
       "\n",
       "              Name  CI-Obs.  CI-Cal.  Test  0  1  2  ...  2038  2039  2040  \\\n",
       "0         Abacavir     0.47     0.62     1  0  0  0  ...     0     0     0   \n",
       "1         Acipimox     0.25     0.38     0  0  0  0  ...     0     0     0   \n",
       "2        Acyclovir     0.17     0.09     1  0  0  0  ...     0     0     0   \n",
       "3          Alanine     0.30     0.40     1  0  0  0  ...     0     0     0   \n",
       "4       Alfentanil     0.75     0.68     0  0  0  0  ...     0     0     0   \n",
       "..             ...      ...      ...   ... .. .. ..  ...   ...   ...   ...   \n",
       "82  Trovafl oxacin     0.19     0.23     0  0  0  0  ...     0     0     0   \n",
       "83            Urea     0.32     0.28     0  0  0  0  ...     0     0     0   \n",
       "84   Valproic_acid     0.95     0.93     0  0  0  0  ...     0     0     0   \n",
       "85     Vinblastine     0.31     0.23     0  1  0  0  ...     0     0     0   \n",
       "86     Zalcitabine     0.22     0.34     0  0  0  0  ...     0     0     0   \n",
       "\n",
       "    2041  2042  2043  2044  2045  2046  2047  \n",
       "0      0     0     0     0     0     0     0  \n",
       "1      0     0     0     0     0     0     0  \n",
       "2      0     0     0     0     1     0     0  \n",
       "3      0     0     0     0     0     0     0  \n",
       "4      0     0     0     0     0     1     0  \n",
       "..   ...   ...   ...   ...   ...   ...   ...  \n",
       "82     0     0     0     0     0     0     0  \n",
       "83     0     0     0     0     0     0     0  \n",
       "84     0     0     0     0     0     0     0  \n",
       "85     0     0     0     0     0     0     0  \n",
       "86     0     0     0     0     0     0     0  \n",
       "\n",
       "[87 rows x 2055 columns]"
      ],
      "text/html": "<div>\n<style scoped>\n    .dataframe tbody tr th:only-of-type {\n        vertical-align: middle;\n    }\n\n    .dataframe tbody tr th {\n        vertical-align: top;\n    }\n\n    .dataframe thead th {\n        text-align: right;\n    }\n</style>\n<table border=\"1\" class=\"dataframe\">\n  <thead>\n    <tr style=\"text-align: right;\">\n      <th></th>\n      <th>Compound</th>\n      <th>No.</th>\n      <th>SMILES</th>\n      <th>Name</th>\n      <th>CI-Obs.</th>\n      <th>CI-Cal.</th>\n      <th>Test</th>\n      <th>0</th>\n      <th>1</th>\n      <th>2</th>\n      <th>...</th>\n      <th>2038</th>\n      <th>2039</th>\n      <th>2040</th>\n      <th>2041</th>\n      <th>2042</th>\n      <th>2043</th>\n      <th>2044</th>\n      <th>2045</th>\n      <th>2046</th>\n      <th>2047</th>\n    </tr>\n  </thead>\n  <tbody>\n    <tr>\n      <th>0</th>\n      <td>Abacavir</td>\n      <td>1</td>\n      <td>NC1=NC(NC2CC2)=C2N=CN([C@@H]3C[C@H](CO)C=C3)C2=N1</td>\n      <td>Abacavir</td>\n      <td>0.47</td>\n      <td>0.62</td>\n      <td>1</td>\n      <td>0</td>\n      <td>0</td>\n      <td>0</td>\n      <td>...</td>\n      <td>0</td>\n      <td>0</td>\n      <td>0</td>\n      <td>0</td>\n      <td>0</td>\n      <td>0</td>\n      <td>0</td>\n      <td>0</td>\n      <td>0</td>\n      <td>0</td>\n    </tr>\n    <tr>\n      <th>1</th>\n      <td>Acipimox</td>\n      <td>2</td>\n      <td>CC1=CN=C(C=[N+]1[O-])C(=O)O</td>\n      <td>Acipimox</td>\n      <td>0.25</td>\n      <td>0.38</td>\n      <td>0</td>\n      <td>0</td>\n      <td>0</td>\n      <td>0</td>\n      <td>...</td>\n      <td>0</td>\n      <td>0</td>\n      <td>0</td>\n      <td>0</td>\n      <td>0</td>\n      <td>0</td>\n      <td>0</td>\n      <td>0</td>\n      <td>0</td>\n      <td>0</td>\n    </tr>\n    <tr>\n      <th>2</th>\n      <td>Acyclovir</td>\n      <td>3</td>\n      <td>NC1=NC(=O)C2=C(N1)N(COCCO)C=N2</td>\n      <td>Acyclovir</td>\n      <td>0.17</td>\n      <td>0.09</td>\n      <td>1</td>\n      <td>0</td>\n      <td>0</td>\n      <td>0</td>\n      <td>...</td>\n      <td>0</td>\n      <td>0</td>\n      <td>0</td>\n      <td>0</td>\n      <td>0</td>\n      <td>0</td>\n      <td>0</td>\n      <td>1</td>\n      <td>0</td>\n      <td>0</td>\n    </tr>\n    <tr>\n      <th>3</th>\n      <td>Alanine</td>\n      <td>4</td>\n      <td>CC(N)C(O)=O</td>\n      <td>Alanine</td>\n      <td>0.30</td>\n      <td>0.40</td>\n      <td>1</td>\n      <td>0</td>\n      <td>0</td>\n      <td>0</td>\n      <td>...</td>\n      <td>0</td>\n      <td>0</td>\n      <td>0</td>\n      <td>0</td>\n      <td>0</td>\n      <td>0</td>\n      <td>0</td>\n      <td>0</td>\n      <td>0</td>\n      <td>0</td>\n    </tr>\n    <tr>\n      <th>4</th>\n      <td>Alfentanil</td>\n      <td>5</td>\n      <td>CCN1N=NN(CCN2CCC(COC)(CC2)N(C(=O)CC)C2=CC=CC=C...</td>\n      <td>Alfentanil</td>\n      <td>0.75</td>\n      <td>0.68</td>\n      <td>0</td>\n      <td>0</td>\n      <td>0</td>\n      <td>0</td>\n      <td>...</td>\n      <td>0</td>\n      <td>0</td>\n      <td>0</td>\n      <td>0</td>\n      <td>0</td>\n      <td>0</td>\n      <td>0</td>\n      <td>0</td>\n      <td>1</td>\n      <td>0</td>\n    </tr>\n    <tr>\n      <th>...</th>\n      <td>...</td>\n      <td>...</td>\n      <td>...</td>\n      <td>...</td>\n      <td>...</td>\n      <td>...</td>\n      <td>...</td>\n      <td>...</td>\n      <td>...</td>\n      <td>...</td>\n      <td>...</td>\n      <td>...</td>\n      <td>...</td>\n      <td>...</td>\n      <td>...</td>\n      <td>...</td>\n      <td>...</td>\n      <td>...</td>\n      <td>...</td>\n      <td>...</td>\n      <td>...</td>\n    </tr>\n    <tr>\n      <th>82</th>\n      <td>Trovafl oxacin</td>\n      <td>84</td>\n      <td>O=C(C1=CN(C2=CC=C(F)C=C2F)C3=C(C=C(F)C(N4CC5C(...</td>\n      <td>Trovafl oxacin</td>\n      <td>0.19</td>\n      <td>0.23</td>\n      <td>0</td>\n      <td>0</td>\n      <td>0</td>\n      <td>0</td>\n      <td>...</td>\n      <td>0</td>\n      <td>0</td>\n      <td>0</td>\n      <td>0</td>\n      <td>0</td>\n      <td>0</td>\n      <td>0</td>\n      <td>0</td>\n      <td>0</td>\n      <td>0</td>\n    </tr>\n    <tr>\n      <th>83</th>\n      <td>Urea</td>\n      <td>85</td>\n      <td>NC(N)=O</td>\n      <td>Urea</td>\n      <td>0.32</td>\n      <td>0.28</td>\n      <td>0</td>\n      <td>0</td>\n      <td>0</td>\n      <td>0</td>\n      <td>...</td>\n      <td>0</td>\n      <td>0</td>\n      <td>0</td>\n      <td>0</td>\n      <td>0</td>\n      <td>0</td>\n      <td>0</td>\n      <td>0</td>\n      <td>0</td>\n      <td>0</td>\n    </tr>\n    <tr>\n      <th>84</th>\n      <td>Valproic acid</td>\n      <td>86</td>\n      <td>CCCC(CCC)C(O)=O</td>\n      <td>Valproic_acid</td>\n      <td>0.95</td>\n      <td>0.93</td>\n      <td>0</td>\n      <td>0</td>\n      <td>0</td>\n      <td>0</td>\n      <td>...</td>\n      <td>0</td>\n      <td>0</td>\n      <td>0</td>\n      <td>0</td>\n      <td>0</td>\n      <td>0</td>\n      <td>0</td>\n      <td>0</td>\n      <td>0</td>\n      <td>0</td>\n    </tr>\n    <tr>\n      <th>85</th>\n      <td>Vinblastine</td>\n      <td>87</td>\n      <td>CC[C@]1(O)C[C@@H]2CN(C1)CCC1=C(NC3=CC=CC=C13)[...</td>\n      <td>Vinblastine</td>\n      <td>0.31</td>\n      <td>0.23</td>\n      <td>0</td>\n      <td>1</td>\n      <td>0</td>\n      <td>0</td>\n      <td>...</td>\n      <td>0</td>\n      <td>0</td>\n      <td>0</td>\n      <td>0</td>\n      <td>0</td>\n      <td>0</td>\n      <td>0</td>\n      <td>0</td>\n      <td>0</td>\n      <td>0</td>\n    </tr>\n    <tr>\n      <th>86</th>\n      <td>Zalcitabine</td>\n      <td>88</td>\n      <td>C1C[C@@H](O[C@@H]1CO)N2C=CC(=NC2=O)N</td>\n      <td>Zalcitabine</td>\n      <td>0.22</td>\n      <td>0.34</td>\n      <td>0</td>\n      <td>0</td>\n      <td>0</td>\n      <td>0</td>\n      <td>...</td>\n      <td>0</td>\n      <td>0</td>\n      <td>0</td>\n      <td>0</td>\n      <td>0</td>\n      <td>0</td>\n      <td>0</td>\n      <td>0</td>\n      <td>0</td>\n      <td>0</td>\n    </tr>\n  </tbody>\n</table>\n<p>87 rows × 2055 columns</p>\n</div>"
     },
     "metadata": {},
     "execution_count": 15
    }
   ],
   "source": [
    "from rdkit import DataStructs\n",
    "import numpy as np\n",
    "\n",
    "mols = [smiles_to_conformation(smiles) for smiles in df['SMILES']]\n",
    "fp = np.vstack(list(map(lambda mol: AllChem.GetMorganFingerprintAsBitVect(mol, radius=2, nBits=2048), mols)))\n",
    "df_fp = pd.concat([df, pd.DataFrame(fp)], axis=1)\n",
    "df_fp"
   ]
  },
  {
   "cell_type": "code",
   "execution_count": 16,
   "metadata": {},
   "outputs": [],
   "source": [
    "df_fp.to_csv('fp.csv')"
   ]
  },
  {
   "cell_type": "code",
   "execution_count": null,
   "metadata": {},
   "outputs": [],
   "source": []
  }
 ],
 "metadata": {
  "kernelspec": {
   "display_name": "Python 3.7.6 64-bit ('anaconda3-2020.02': conda)",
   "language": "python",
   "name": "python37664bitanaconda3202002condade494b4cf82c4a2cb6d4e96ac1bb08de"
  },
  "language_info": {
   "codemirror_mode": {
    "name": "ipython",
    "version": 3
   },
   "file_extension": ".py",
   "mimetype": "text/x-python",
   "name": "python",
   "nbconvert_exporter": "python",
   "pygments_lexer": "ipython3",
   "version": "3.7.6-final"
  }
 },
 "nbformat": 4,
 "nbformat_minor": 4
}