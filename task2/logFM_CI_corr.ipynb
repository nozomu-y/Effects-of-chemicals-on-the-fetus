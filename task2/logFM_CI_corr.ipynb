{
 "metadata": {
  "language_info": {
   "codemirror_mode": {
    "name": "ipython",
    "version": 3
   },
   "file_extension": ".py",
   "mimetype": "text/x-python",
   "name": "python",
   "nbconvert_exporter": "python",
   "pygments_lexer": "ipython3",
   "version": "3.7.6-final"
  },
  "orig_nbformat": 2,
  "kernelspec": {
   "name": "Python 3.7.6 64-bit ('anaconda3-2020.02': pyenv)",
   "display_name": "Python 3.7.6 64-bit ('anaconda3-2020.02': pyenv)",
   "metadata": {
    "interpreter": {
     "hash": "47e885201732dc5f682984487bb37f211aef48cfa64676d79f932595abb486f6"
    }
   }
  }
 },
 "nbformat": 4,
 "nbformat_minor": 2,
 "cells": [
  {
   "cell_type": "code",
   "execution_count": 1,
   "metadata": {},
   "outputs": [],
   "source": [
    "import pandas as pd\n",
    "df_logFM = pd.read_csv(\"../task1/data.csv\",index_col=0)\n",
    "df_CI = pd.read_csv(\"./data.csv\",index_col=0)"
   ]
  },
  {
   "cell_type": "code",
   "execution_count": 2,
   "metadata": {},
   "outputs": [],
   "source": [
    "df_logFM = df_logFM.drop(['PubChem CID','SMILES','Predicted logFM'],axis=1)\n",
    "df_CI = df_CI.drop(['Compound','No.','SMILES','Test','CI-Cal.'],axis=1)"
   ]
  },
  {
   "cell_type": "code",
   "execution_count": 3,
   "metadata": {},
   "outputs": [
    {
     "output_type": "execute_result",
     "data": {
      "text/plain": [
       "           Name  Observed logFM\n",
       "0  Oxychlordane           -1.02\n",
       "1           DDE           -0.98\n",
       "2  Mifepristone           -0.96\n",
       "3    Atazanavir           -0.89\n",
       "4     Nonachlor           -0.84"
      ],
      "text/html": "<div>\n<style scoped>\n    .dataframe tbody tr th:only-of-type {\n        vertical-align: middle;\n    }\n\n    .dataframe tbody tr th {\n        vertical-align: top;\n    }\n\n    .dataframe thead th {\n        text-align: right;\n    }\n</style>\n<table border=\"1\" class=\"dataframe\">\n  <thead>\n    <tr style=\"text-align: right;\">\n      <th></th>\n      <th>Name</th>\n      <th>Observed logFM</th>\n    </tr>\n  </thead>\n  <tbody>\n    <tr>\n      <th>0</th>\n      <td>Oxychlordane</td>\n      <td>-1.02</td>\n    </tr>\n    <tr>\n      <th>1</th>\n      <td>DDE</td>\n      <td>-0.98</td>\n    </tr>\n    <tr>\n      <th>2</th>\n      <td>Mifepristone</td>\n      <td>-0.96</td>\n    </tr>\n    <tr>\n      <th>3</th>\n      <td>Atazanavir</td>\n      <td>-0.89</td>\n    </tr>\n    <tr>\n      <th>4</th>\n      <td>Nonachlor</td>\n      <td>-0.84</td>\n    </tr>\n  </tbody>\n</table>\n</div>"
     },
     "metadata": {},
     "execution_count": 3
    }
   ],
   "source": [
    "df_logFM.head()"
   ]
  },
  {
   "cell_type": "code",
   "execution_count": 4,
   "metadata": {},
   "outputs": [
    {
     "output_type": "execute_result",
     "data": {
      "text/plain": [
       "         Name  CI-Obs.\n",
       "0    Abacavir     0.47\n",
       "1    Acipimox     0.25\n",
       "2   Acyclovir     0.17\n",
       "3     Alanine     0.30\n",
       "4  Alfentanil     0.75"
      ],
      "text/html": "<div>\n<style scoped>\n    .dataframe tbody tr th:only-of-type {\n        vertical-align: middle;\n    }\n\n    .dataframe tbody tr th {\n        vertical-align: top;\n    }\n\n    .dataframe thead th {\n        text-align: right;\n    }\n</style>\n<table border=\"1\" class=\"dataframe\">\n  <thead>\n    <tr style=\"text-align: right;\">\n      <th></th>\n      <th>Name</th>\n      <th>CI-Obs.</th>\n    </tr>\n  </thead>\n  <tbody>\n    <tr>\n      <th>0</th>\n      <td>Abacavir</td>\n      <td>0.47</td>\n    </tr>\n    <tr>\n      <th>1</th>\n      <td>Acipimox</td>\n      <td>0.25</td>\n    </tr>\n    <tr>\n      <th>2</th>\n      <td>Acyclovir</td>\n      <td>0.17</td>\n    </tr>\n    <tr>\n      <th>3</th>\n      <td>Alanine</td>\n      <td>0.30</td>\n    </tr>\n    <tr>\n      <th>4</th>\n      <td>Alfentanil</td>\n      <td>0.75</td>\n    </tr>\n  </tbody>\n</table>\n</div>"
     },
     "metadata": {},
     "execution_count": 4
    }
   ],
   "source": [
    "df_CI.head()"
   ]
  },
  {
   "cell_type": "code",
   "execution_count": 5,
   "metadata": {},
   "outputs": [],
   "source": [
    "df = pd.merge(df_logFM, df_CI, on='Name', how='inner')\n",
    "df= df.rename(columns={\"Observed logFM\": \"logFM\", \"CI-Obs.\": \"CI\"})"
   ]
  },
  {
   "cell_type": "code",
   "execution_count": 6,
   "metadata": {},
   "outputs": [
    {
     "output_type": "execute_result",
     "data": {
      "text/plain": [
       "             Name  logFM    CI\n",
       "0             DDE  -0.98  0.61\n",
       "1       Lopinavir  -0.62  0.73\n",
       "2   Buprenorphine  -0.46  0.29\n",
       "3      Didanosine  -0.42  0.31\n",
       "4       Lidocaine  -0.26  0.91\n",
       "5     Ticarcillin  -0.04  0.04\n",
       "6      Lamivudine  -0.03  0.23\n",
       "7    Indomethacin  -0.01  0.72\n",
       "8        Abacavir   0.01  0.47\n",
       "9       Stavudine   0.12  0.24\n",
       "10      Indinavir  -1.10  0.39\n",
       "11    Bupivacaine  -0.52  0.73\n",
       "12   Cefoperazone  -0.46  0.04\n",
       "13       Naloxone  -0.30  0.64"
      ],
      "text/html": "<div>\n<style scoped>\n    .dataframe tbody tr th:only-of-type {\n        vertical-align: middle;\n    }\n\n    .dataframe tbody tr th {\n        vertical-align: top;\n    }\n\n    .dataframe thead th {\n        text-align: right;\n    }\n</style>\n<table border=\"1\" class=\"dataframe\">\n  <thead>\n    <tr style=\"text-align: right;\">\n      <th></th>\n      <th>Name</th>\n      <th>logFM</th>\n      <th>CI</th>\n    </tr>\n  </thead>\n  <tbody>\n    <tr>\n      <th>0</th>\n      <td>DDE</td>\n      <td>-0.98</td>\n      <td>0.61</td>\n    </tr>\n    <tr>\n      <th>1</th>\n      <td>Lopinavir</td>\n      <td>-0.62</td>\n      <td>0.73</td>\n    </tr>\n    <tr>\n      <th>2</th>\n      <td>Buprenorphine</td>\n      <td>-0.46</td>\n      <td>0.29</td>\n    </tr>\n    <tr>\n      <th>3</th>\n      <td>Didanosine</td>\n      <td>-0.42</td>\n      <td>0.31</td>\n    </tr>\n    <tr>\n      <th>4</th>\n      <td>Lidocaine</td>\n      <td>-0.26</td>\n      <td>0.91</td>\n    </tr>\n    <tr>\n      <th>5</th>\n      <td>Ticarcillin</td>\n      <td>-0.04</td>\n      <td>0.04</td>\n    </tr>\n    <tr>\n      <th>6</th>\n      <td>Lamivudine</td>\n      <td>-0.03</td>\n      <td>0.23</td>\n    </tr>\n    <tr>\n      <th>7</th>\n      <td>Indomethacin</td>\n      <td>-0.01</td>\n      <td>0.72</td>\n    </tr>\n    <tr>\n      <th>8</th>\n      <td>Abacavir</td>\n      <td>0.01</td>\n      <td>0.47</td>\n    </tr>\n    <tr>\n      <th>9</th>\n      <td>Stavudine</td>\n      <td>0.12</td>\n      <td>0.24</td>\n    </tr>\n    <tr>\n      <th>10</th>\n      <td>Indinavir</td>\n      <td>-1.10</td>\n      <td>0.39</td>\n    </tr>\n    <tr>\n      <th>11</th>\n      <td>Bupivacaine</td>\n      <td>-0.52</td>\n      <td>0.73</td>\n    </tr>\n    <tr>\n      <th>12</th>\n      <td>Cefoperazone</td>\n      <td>-0.46</td>\n      <td>0.04</td>\n    </tr>\n    <tr>\n      <th>13</th>\n      <td>Naloxone</td>\n      <td>-0.30</td>\n      <td>0.64</td>\n    </tr>\n  </tbody>\n</table>\n</div>"
     },
     "metadata": {},
     "execution_count": 6
    }
   ],
   "source": [
    "df"
   ]
  },
  {
   "cell_type": "code",
   "execution_count": 7,
   "metadata": {},
   "outputs": [
    {
     "output_type": "execute_result",
     "data": {
      "text/plain": [
       "         logFM       CI\n",
       "logFM  1.00000 -0.19177\n",
       "CI    -0.19177  1.00000"
      ],
      "text/html": "<div>\n<style scoped>\n    .dataframe tbody tr th:only-of-type {\n        vertical-align: middle;\n    }\n\n    .dataframe tbody tr th {\n        vertical-align: top;\n    }\n\n    .dataframe thead th {\n        text-align: right;\n    }\n</style>\n<table border=\"1\" class=\"dataframe\">\n  <thead>\n    <tr style=\"text-align: right;\">\n      <th></th>\n      <th>logFM</th>\n      <th>CI</th>\n    </tr>\n  </thead>\n  <tbody>\n    <tr>\n      <th>logFM</th>\n      <td>1.00000</td>\n      <td>-0.19177</td>\n    </tr>\n    <tr>\n      <th>CI</th>\n      <td>-0.19177</td>\n      <td>1.00000</td>\n    </tr>\n  </tbody>\n</table>\n</div>"
     },
     "metadata": {},
     "execution_count": 7
    }
   ],
   "source": [
    "df.corr()"
   ]
  },
  {
   "cell_type": "code",
   "execution_count": 8,
   "metadata": {},
   "outputs": [],
   "source": [
    "df.to_csv(\"./output/logFM_CI_corr.csv\",index=False)"
   ]
  }
 ]
}